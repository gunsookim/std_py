{
  "nbformat": 4,
  "nbformat_minor": 0,
  "metadata": {
    "colab": {
      "provenance": [],
      "authorship_tag": "ABX9TyOtU7+rkIzTHPV1ITYtfvMu",
      "include_colab_link": true
    },
    "kernelspec": {
      "name": "python3",
      "display_name": "Python 3"
    },
    "language_info": {
      "name": "python"
    }
  },
  "cells": [
    {
      "cell_type": "markdown",
      "metadata": {
        "id": "view-in-github",
        "colab_type": "text"
      },
      "source": [
        "<a href=\"https://colab.research.google.com/github/gunsookim/std_py/blob/main/20230517.ipynb\" target=\"_parent\"><img src=\"https://colab.research.google.com/assets/colab-badge.svg\" alt=\"Open In Colab\"/></a>"
      ]
    },
    {
      "cell_type": "code",
      "execution_count": null,
      "metadata": {
        "colab": {
          "base_uri": "https://localhost:8080/"
        },
        "id": "pHijSAkGCdX5",
        "outputId": "28b0be19-357c-4429-ca05-d51ed1b14934"
      },
      "outputs": [
        {
          "name": "stdout",
          "output_type": "stream",
          "text": [
            "1\n",
            "이름을 입력하세요.1\n"
          ]
        }
      ],
      "source": [
        "input()\n",
        "name=input('이름을 입력하세요.')"
      ]
    },
    {
      "cell_type": "code",
      "source": [
        "print(name)"
      ],
      "metadata": {
        "colab": {
          "base_uri": "https://localhost:8080/"
        },
        "id": "TPrHrk3KCw0s",
        "outputId": "5b262faf-750c-47b0-abbf-e957e1c2d3ec"
      },
      "execution_count": null,
      "outputs": [
        {
          "output_type": "stream",
          "name": "stdout",
          "text": [
            "1\n"
          ]
        }
      ]
    },
    {
      "cell_type": "code",
      "source": [
        "a = input()\n",
        "b = input()\n",
        "print(a, b)"
      ],
      "metadata": {
        "colab": {
          "base_uri": "https://localhost:8080/"
        },
        "id": "4aSrvUp-C3l8",
        "outputId": "d1b6a030-39f1-4dfb-b1cd-e293c8816329"
      },
      "execution_count": null,
      "outputs": [
        {
          "output_type": "stream",
          "name": "stdout",
          "text": [
            "a\n",
            "b\n",
            "a b\n"
          ]
        }
      ]
    },
    {
      "cell_type": "code",
      "source": [
        "name=input('이름을 입력하세요:')\n",
        "print(f'{name}님 반갑습니다.')"
      ],
      "metadata": {
        "colab": {
          "base_uri": "https://localhost:8080/"
        },
        "id": "oS2fviiDEhCB",
        "outputId": "956af02a-60f8-4b3d-b167-bc8286333792"
      },
      "execution_count": null,
      "outputs": [
        {
          "output_type": "stream",
          "name": "stdout",
          "text": [
            "이름을 입력하세요:홍길동\n",
            "홍길동님 반갑습니다.\n"
          ]
        }
      ]
    },
    {
      "cell_type": "code",
      "source": [
        "inch=float(input(\"인치를 입력하세요: \"))\n",
        "cm=inch*83.31/32.8\n",
        "print(cm)\n",
        "print('센티미터: %.2f cm' %(inch*2.5))"
      ],
      "metadata": {
        "colab": {
          "base_uri": "https://localhost:8080/"
        },
        "id": "rxLfNJW0GYNV",
        "outputId": "00ce82ad-d447-43da-c687-ab45471ebfd7"
      },
      "execution_count": null,
      "outputs": [
        {
          "output_type": "stream",
          "name": "stdout",
          "text": [
            "인치를 입력하세요: 5\n",
            "12.69969512195122\n",
            "센티미터: 12.50 cm\n"
          ]
        }
      ]
    },
    {
      "cell_type": "code",
      "source": [
        "w=float(input('삼각형의 밑변 길이: '))\n",
        "h=float(input('삼각형의 높이: '))\n",
        "s=(h*w)/2\n",
        "print(f'삼각형의 면적: %.1f' %s)"
      ],
      "metadata": {
        "colab": {
          "base_uri": "https://localhost:8080/"
        },
        "id": "qXn24cr6GnPv",
        "outputId": "f5037fca-27b1-4ec0-ad3d-610dee7d2a11"
      },
      "execution_count": null,
      "outputs": [
        {
          "output_type": "stream",
          "name": "stdout",
          "text": [
            "삼각형의 밑변 길이: 10\n",
            "삼각형의 높이: 3\n",
            "삼각형의 면적: 15.0\n"
          ]
        }
      ]
    },
    {
      "cell_type": "code",
      "source": [
        "price=int(input('물건가격: '))\n",
        "buy=int(input('구매개수: '))\n",
        "pay=int(input('지불금액: '))\n",
        "mon=pay - price*buy\n",
        "print(f'거스름돈: %.1f' %mon)"
      ],
      "metadata": {
        "colab": {
          "base_uri": "https://localhost:8080/"
        },
        "id": "0aRuTy2IJPnD",
        "outputId": "eaf11de6-6924-48ca-8fbc-01252cf40982"
      },
      "execution_count": null,
      "outputs": [
        {
          "output_type": "stream",
          "name": "stdout",
          "text": [
            "물건가격: 300\n",
            "구매개수: 3\n",
            "지불금액: 5000\n",
            "거스름돈: 4100.0\n"
          ]
        }
      ]
    },
    {
      "cell_type": "code",
      "source": [
        "name=input('이름: ')\n",
        "age=int(input('나이: '))\n",
        "height=float(input('키: '))\n",
        "print(f'성: %s' %name[0])\n",
        "print(f'이름: %s' %name[1:])\n",
        "print(f'%s의 나이: %d세, 키: %.2fcm' %(name, age, height))"
      ],
      "metadata": {
        "colab": {
          "base_uri": "https://localhost:8080/"
        },
        "id": "x7fO5rFfLbFM",
        "outputId": "92bc78a4-a61b-4af7-a6e3-bf014b83532e"
      },
      "execution_count": null,
      "outputs": [
        {
          "output_type": "stream",
          "name": "stdout",
          "text": [
            "이름: 홍길동\n",
            "나이: 30\n",
            "키: 171.5\n",
            "성: 홍\n",
            "이름: 길동\n",
            "홍길동의 나이: 30세, 키: 171.50cm\n"
          ]
        }
      ]
    },
    {
      "cell_type": "code",
      "source": [
        "a=[\n",
        "    {'num':'1','name':'김철수','kor':90,'eng':80,'math':85,'total':0,'avg':0.0,'order':0},\n",
        "    {'num':'2','name':'박제동','kor':90,'eng':85,'math':90,'total':0,'avg':0.0,'order':0},\n",
        "    {'num':'3','name':'홍길동','kor':90,'eng':80,'math':80,'total':0,'avg':0.0,'order':0}\n",
        "]\n",
        "print(a[0])\n",
        "a[0]['total']=(a[0]['kor'] + a[0]['eng']+ a[0]['math'])"
      ],
      "metadata": {
        "colab": {
          "base_uri": "https://localhost:8080/"
        },
        "id": "g8zwc88KR7un",
        "outputId": "57a9f404-9825-41bc-a310-7af568d492b6"
      },
      "execution_count": null,
      "outputs": [
        {
          "output_type": "stream",
          "name": "stdout",
          "text": [
            "{'num': '1', 'name': '김철수', 'kor': 90, 'eng': 80, 'math': 85, 'total': 0, 'avg': 0.0, 'order': 0}\n"
          ]
        }
      ]
    },
    {
      "cell_type": "code",
      "source": [
        "print(a[0]['total'])"
      ],
      "metadata": {
        "colab": {
          "base_uri": "https://localhost:8080/"
        },
        "id": "0ldai1GGVQs4",
        "outputId": "bf6d2f7e-a939-4c01-8977-7cf217a08954"
      },
      "execution_count": null,
      "outputs": [
        {
          "output_type": "stream",
          "name": "stdout",
          "text": [
            "255\n"
          ]
        }
      ]
    },
    {
      "cell_type": "code",
      "source": [
        "a[0]['total']=1\n",
        "print(a[0]['total'])"
      ],
      "metadata": {
        "colab": {
          "base_uri": "https://localhost:8080/"
        },
        "id": "mU07TtIKVTLY",
        "outputId": "a650b61e-5479-4fae-f51d-fad89e14e606"
      },
      "execution_count": null,
      "outputs": [
        {
          "output_type": "stream",
          "name": "stdout",
          "text": [
            "1\n"
          ]
        }
      ]
    },
    {
      "cell_type": "code",
      "source": [
        "a[0]['total']=(a[0]['kor'] + a[0]['eng']+ a[0]['math'])\n",
        "a[1]['total']=(a[1]['kor'] + a[1]['eng']+ a[1]['math'])\n",
        "a[2]['total']=(a[2]['kor'] + a[2]['eng']+ a[2]['math'])\n",
        "print(a[0]['total'])\n",
        "print(a[1]['total'])\n",
        "print(a[2]['total'])\n",
        "a[0]['avg']=(a[0]['total']/3)\n",
        "a[1]['avg']=(a[1]['total']/3)\n",
        "a[2]['avg']=(a[2]['total']/3)\n",
        "print(a[0]['avg'])\n",
        "print(a[1]['avg'])\n",
        "print(a[2]['avg'])"
      ],
      "metadata": {
        "colab": {
          "base_uri": "https://localhost:8080/"
        },
        "id": "QDXZofHyVZEe",
        "outputId": "90e2216b-fed9-4ba7-c7f9-6359f535d519"
      },
      "execution_count": null,
      "outputs": [
        {
          "output_type": "stream",
          "name": "stdout",
          "text": [
            "255\n",
            "265\n",
            "250\n",
            "85.0\n",
            "88.33333333333333\n",
            "83.33333333333333\n"
          ]
        }
      ]
    },
    {
      "cell_type": "code",
      "source": [
        "print(a)"
      ],
      "metadata": {
        "colab": {
          "base_uri": "https://localhost:8080/"
        },
        "id": "HRZyJ1PIZQkN",
        "outputId": "ae678309-f66e-4d4d-9808-f9f1d85a5c8d"
      },
      "execution_count": null,
      "outputs": [
        {
          "output_type": "stream",
          "name": "stdout",
          "text": [
            "[{'num': '1', 'name': '김철수', 'kor': 90, 'eng': 80, 'math': 85, 'total': 255, 'avg': 85.0, 'order': 0}, {'num': '2', 'name': '박제동', 'kor': 90, 'eng': 85, 'math': 90, 'total': 265, 'avg': 88.33333333333333, 'order': 0}, {'num': '3', 'name': '홍길동', 'kor': 90, 'eng': 80, 'math': 80, 'total': 250, 'avg': 83.33333333333333, 'order': 0}]\n"
          ]
        }
      ]
    },
    {
      "cell_type": "code",
      "source": [
        "tot_avg=(a[0]['total']+a[1]['total']+a[2]['total'])/3\n",
        "print(f'학급 총점의 평균: %.2f' %tot_avg)\n",
        "kor_avg=(a[0]['kor']+a[1]['kor']+a[2]['kor'])/3\n",
        "print(f'국어 평균: %.2f' %kor_avg)\n",
        "eng_avg=(a[0]['eng']+a[1]['eng']+a[2]['eng'])/3\n",
        "print(f'영어 평균: %.2f' %eng_avg)\n",
        "math_avg=(a[0]['math']+a[1]['math']+a[2]['math'])/3\n",
        "print(f'수학 평균: %.2f' %math_avg)"
      ],
      "metadata": {
        "colab": {
          "base_uri": "https://localhost:8080/"
        },
        "id": "unYCdKacZVGR",
        "outputId": "64a0cccb-bcbd-4838-caec-748e8b4a6137"
      },
      "execution_count": null,
      "outputs": [
        {
          "output_type": "stream",
          "name": "stdout",
          "text": [
            "학급 총점의 평균: 256.67\n",
            "국어 평균: 90.00\n",
            "영어 평균: 81.67\n",
            "수학 평균: 85.00\n"
          ]
        }
      ]
    },
    {
      "cell_type": "code",
      "source": [
        "n=float(input('숫자를 입력하세요: '))\n",
        "if n>0:\n",
        "  print('양수!')\n",
        "else:\n",
        "  print('0 또는 음수!')"
      ],
      "metadata": {
        "colab": {
          "base_uri": "https://localhost:8080/"
        },
        "id": "N42n2sbMdiQw",
        "outputId": "13ca8821-df40-46c3-d908-2b92590bfd76"
      },
      "execution_count": null,
      "outputs": [
        {
          "output_type": "stream",
          "name": "stdout",
          "text": [
            "숫자를 입력하세요: 23\n",
            "양수!\n"
          ]
        }
      ]
    },
    {
      "cell_type": "code",
      "source": [
        "money=int(input())\n",
        "if money>=5000:\n",
        "  print('택시를 탄다.')\n",
        "else:\n",
        "  print('버스를 탄다.')"
      ],
      "metadata": {
        "colab": {
          "base_uri": "https://localhost:8080/"
        },
        "id": "OAC9jHeUeK6z",
        "outputId": "dea73b3c-cd54-4283-b9a4-0f05ba9712ee"
      },
      "execution_count": null,
      "outputs": [
        {
          "output_type": "stream",
          "name": "stdout",
          "text": [
            "300\n",
            "버스를 탄다.\n"
          ]
        }
      ]
    },
    {
      "cell_type": "code",
      "source": [
        "grade=float(input())\n",
        "if grade>=4.3:\n",
        "  print('\\\"장학금 수여 대상\\\"' )\n",
        "  print('축하메세지')"
      ],
      "metadata": {
        "colab": {
          "base_uri": "https://localhost:8080/"
        },
        "id": "fdTGq-EFoKyU",
        "outputId": "7b0a1610-82ce-491b-f479-f9a3ebf8c9d0"
      },
      "execution_count": null,
      "outputs": [
        {
          "name": "stdout",
          "output_type": "stream",
          "text": [
            "3\n"
          ]
        }
      ]
    },
    {
      "cell_type": "code",
      "source": [
        "num=int(input())\n",
        "if num%2==0:\n",
        "  print('짝수')\n",
        "else:\n",
        "  print('홀수')"
      ],
      "metadata": {
        "colab": {
          "base_uri": "https://localhost:8080/"
        },
        "id": "ZU6LjYlLpmj7",
        "outputId": "9fe3ee90-ecd2-482b-b45c-b991d7ff1e09"
      },
      "execution_count": null,
      "outputs": [
        {
          "output_type": "stream",
          "name": "stdout",
          "text": [
            "3\n",
            "홀수\n"
          ]
        }
      ]
    },
    {
      "cell_type": "code",
      "source": [
        "su = float(input())\n",
        "if su%2==0:\n",
        "  print(f'%d는 짝수이다.\\n짝짝짝짝' %su)\n",
        "else:\n",
        "  print(f'%d는 홀수이다.\\n홀홀홀홀' %su)\n",
        "print('if문 끝')"
      ],
      "metadata": {
        "colab": {
          "base_uri": "https://localhost:8080/"
        },
        "id": "aJJQ4CyQrQNP",
        "outputId": "64ec4358-8172-4b3e-883c-83fc7638ebce"
      },
      "execution_count": null,
      "outputs": [
        {
          "output_type": "stream",
          "name": "stdout",
          "text": [
            "5\n",
            "5는 홀수이다.\n",
            "홀홀홀홀\n",
            "if문 끝\n"
          ]
        }
      ]
    },
    {
      "cell_type": "code",
      "source": [
        "age=float(input())\n",
        "height=float(input())\n",
        "if age>=40:\n",
        "  if height>=170:\n",
        "    print('큰키')\n",
        "  else:\n",
        "    print('보통키')\n",
        "else:\n",
        "  if height>=175:\n",
        "    print('큰키')\n",
        "  else:\n",
        "    print('보통키')"
      ],
      "metadata": {
        "colab": {
          "base_uri": "https://localhost:8080/"
        },
        "id": "SEGnfM2btdP9",
        "outputId": "dee13f00-0ce4-4988-f6c9-8d3695fe9aa0"
      },
      "execution_count": null,
      "outputs": [
        {
          "output_type": "stream",
          "name": "stdout",
          "text": [
            "30\n",
            "180\n",
            "큰키\n"
          ]
        }
      ]
    },
    {
      "cell_type": "code",
      "source": [
        "s = float(input())\n",
        "if s>=90:\n",
        "  print(f'A')\n",
        "elif s>=80:\n",
        "  print('B')\n",
        "elif s>=70:\n",
        "  print('C')\n",
        "elif s>=60:\n",
        "  print('D')\n",
        "else:\n",
        "  print(f'F')"
      ],
      "metadata": {
        "colab": {
          "base_uri": "https://localhost:8080/"
        },
        "id": "DcTWi4GvvDOe",
        "outputId": "d70b2703-9a76-4234-e973-0d536e546a7e"
      },
      "execution_count": null,
      "outputs": [
        {
          "output_type": "stream",
          "name": "stdout",
          "text": [
            "80\n",
            "B\n"
          ]
        }
      ]
    },
    {
      "cell_type": "code",
      "source": [
        "score1=int(input('필기성적을 입력하세요: '))\n",
        "score2=int(input('실기성적을 입력하세요: '))\n",
        "if score1>=80 and score2>=80:\n",
        "  print('합격!') \n",
        "else:\n",
        "  print('불합격!')"
      ],
      "metadata": {
        "colab": {
          "base_uri": "https://localhost:8080/"
        },
        "id": "s39MtL9UFyS7",
        "outputId": "9a3d5596-8cac-4e7b-d4ed-5e41e9ee9547"
      },
      "execution_count": null,
      "outputs": [
        {
          "output_type": "stream",
          "name": "stdout",
          "text": [
            "필기성적을 입력하세요: 90\n",
            "실기성적을 입력하세요: 85\n",
            "합격!\n"
          ]
        }
      ]
    },
    {
      "cell_type": "code",
      "source": [
        "id=input('아이디를 입력하세요: ')\n",
        "lv=int(input('회원 레벨을 입력하세요: '))\n",
        "if id=='admin' or lv==1:\n",
        "  print('관리자이다.')\n",
        "else:\n",
        "  print('관리자가 아니다.')\n"
      ],
      "metadata": {
        "colab": {
          "base_uri": "https://localhost:8080/"
        },
        "id": "6fiBk01_LgK4",
        "outputId": "4b582c2a-d99c-417a-9bce-f2a02ef98691"
      },
      "execution_count": null,
      "outputs": [
        {
          "output_type": "stream",
          "name": "stdout",
          "text": [
            "아이디를 입력하세요: admin\n",
            "회원 레벨을 입력하세요: 1\n",
            "관리자이다.\n"
          ]
        }
      ]
    },
    {
      "cell_type": "code",
      "source": [
        "name=input('이름을 입력하세요: ')\n",
        "if not name:\n",
        "  print('이름이 입력되지 않았다.')\n",
        "else:\n",
        "  print(f'이름: %s' %name)"
      ],
      "metadata": {
        "colab": {
          "base_uri": "https://localhost:8080/"
        },
        "id": "NVPd8TIXNVuy",
        "outputId": "79e8a352-acee-4511-ed28-40386c3cce38"
      },
      "execution_count": null,
      "outputs": [
        {
          "output_type": "stream",
          "name": "stdout",
          "text": [
            "이름을 입력하세요: \n",
            "이름이 입력되지 않았다.\n"
          ]
        }
      ]
    },
    {
      "cell_type": "code",
      "source": [
        "age=int(input('나이를 입력하세요: '))\n",
        "pay='3000원'\n",
        "if age>=65 or age<7:\n",
        "  pay='무료'\n",
        "print('%s' %pay)"
      ],
      "metadata": {
        "colab": {
          "base_uri": "https://localhost:8080/"
        },
        "id": "7YLIHmomPMjs",
        "outputId": "9910c1ae-7ee5-4c91-9760-db7cc0b379b4"
      },
      "execution_count": null,
      "outputs": [
        {
          "output_type": "stream",
          "name": "stdout",
          "text": [
            "나이를 입력하세요: 25\n",
            "3000원\n"
          ]
        }
      ]
    },
    {
      "cell_type": "code",
      "source": [
        "pw='12345'\n",
        "in_pw=input('비밀번호를 입력하세요: ')\n",
        "if in_pw=='12345':\n",
        "  print('비밀번호 OK!')\n",
        "else:\n",
        "  print('비밀번호 Not OK!')\n"
      ],
      "metadata": {
        "colab": {
          "base_uri": "https://localhost:8080/"
        },
        "id": "KjzAOZ2tSeJw",
        "outputId": "b106f286-40ed-491d-fad6-0ae0ba266783"
      },
      "execution_count": null,
      "outputs": [
        {
          "output_type": "stream",
          "name": "stdout",
          "text": [
            "비밀번호를 입력하세요: 12345\n",
            "비밀번호 OK!\n"
          ]
        }
      ]
    },
    {
      "cell_type": "code",
      "source": [
        "mon=int(input('월을 입력하세요: '))\n",
        "if 3<=mon<=5:\n",
        "  m='봄'\n",
        "elif 6<=mon<=8:\n",
        "  m='여름'\n",
        "elif 9<=mon<=11:\n",
        "  m='가을'\n",
        "print(f'%d월은 %s입니다.' %(mon,m))"
      ],
      "metadata": {
        "colab": {
          "base_uri": "https://localhost:8080/"
        },
        "id": "kQT4LsRIW9e-",
        "outputId": "bac72b8c-d7b4-4eae-e8b8-fb4efa8e10ac"
      },
      "execution_count": null,
      "outputs": [
        {
          "output_type": "stream",
          "name": "stdout",
          "text": [
            "월을 입력하세요: 4\n",
            "4월은 봄입니다.\n"
          ]
        }
      ]
    },
    {
      "cell_type": "code",
      "source": [
        "mon=int(input('월을 입력하세요: '))\n",
        "if mon in [3,4,5]:\n",
        "  m='봄'\n",
        "elif mon in [6,7,8]:\n",
        "  m='여름'\n",
        "elif mon in [9,10,11]:\n",
        "  m='가을'\n",
        "print(f'%d월은 %s입니다.' %(mon,m))"
      ],
      "metadata": {
        "colab": {
          "base_uri": "https://localhost:8080/"
        },
        "id": "b3VxHZzoZhue",
        "outputId": "d5bce156-7b23-4d98-bf3e-3b74daf4c4d4"
      },
      "execution_count": null,
      "outputs": [
        {
          "output_type": "stream",
          "name": "stdout",
          "text": [
            "월을 입력하세요: 7\n",
            "7월은 여름입니다.\n"
          ]
        }
      ]
    },
    {
      "cell_type": "code",
      "source": [
        "sit=int(input('좌석 종류를 입력해 주세요(1: 일반실, 2: 특실): '))\n",
        "if sit==1:\n",
        "  print('일반실 입니다.')\n",
        "elif sit==2:\n",
        "  print('특실입니다.')"
      ],
      "metadata": {
        "colab": {
          "base_uri": "https://localhost:8080/"
        },
        "id": "vOvEdBYFc1fa",
        "outputId": "41413894-ac85-4199-f6be-36a4fb15e65a"
      },
      "execution_count": null,
      "outputs": [
        {
          "output_type": "stream",
          "name": "stdout",
          "text": [
            "좌석 종류를 입력해 주세요(1: 일반실, 2: 특실): 1\n",
            "일반실 입니다.\n"
          ]
        }
      ]
    },
    {
      "cell_type": "code",
      "source": [
        "sit=int(input('좌석 종류를 입력해 주세요(1: 일반실, 2: 특실): '))\n",
        "seat1='일반실'\n",
        "seat2='특실'\n",
        "if sit==1:\n",
        "  print(f'{seat1}입니다.')\n",
        "elif sit==2:\n",
        "  print(f'{seat2}입니다.')\n",
        "else:\n",
        "  print('잘못된 입력입니다.')"
      ],
      "metadata": {
        "colab": {
          "base_uri": "https://localhost:8080/"
        },
        "id": "xz_Z3vksdSqd",
        "outputId": "49dd397f-3e9e-4599-fdc8-42761160af12"
      },
      "execution_count": null,
      "outputs": [
        {
          "output_type": "stream",
          "name": "stdout",
          "text": [
            "좌석 종류를 입력해 주세요(1: 일반실, 2: 특실): 1\n",
            "일반실입니다.\n"
          ]
        }
      ]
    },
    {
      "cell_type": "code",
      "source": [
        "a=input('영어 알파벳을 입력하세요.: ')\n",
        "if a in ['a','e','i','o','u']:\n",
        "  print(f'{a}은(는) 모음입니다.')\n",
        "else:\n",
        "  print(f'{a}은(는) 자음입니다.')"
      ],
      "metadata": {
        "colab": {
          "base_uri": "https://localhost:8080/"
        },
        "id": "gybe4rWSe5ma",
        "outputId": "04348078-598e-4aa2-e8cc-0229ba3532ab"
      },
      "execution_count": null,
      "outputs": [
        {
          "output_type": "stream",
          "name": "stdout",
          "text": [
            "영어 알파벳을 입력하세요.: w\n",
            "w은(는) 자음입니다.\n"
          ]
        }
      ]
    },
    {
      "cell_type": "code",
      "source": [
        "char=input('알파벳 입력: ')\n",
        "char_1=char.upper()\n",
        "\n",
        "if char_1 in ['A','E','I','O','U']:\n",
        "  print(f'{char_1}은(는) 모음입니다.')\n",
        "else:\n",
        "  print(f'{char_1}은(는) 자음입니다.')"
      ],
      "metadata": {
        "colab": {
          "base_uri": "https://localhost:8080/"
        },
        "id": "tBFYCD_5iIIK",
        "outputId": "805767c2-6925-4844-c7cc-99f389035eec"
      },
      "execution_count": null,
      "outputs": [
        {
          "output_type": "stream",
          "name": "stdout",
          "text": [
            "알파벳 입력: w\n",
            "W은(는) 자음입니다.\n"
          ]
        }
      ]
    },
    {
      "cell_type": "code",
      "source": [
        "n1=int(input('첫번째 정수를 입력하세요: '))\n",
        "n2=int(input('두번째 정수를 입력하세요: '))\n",
        "n3=int(input('세번째 정수를 입력하세요: '))\n",
        "if n1>=n2 and n1>=n2:\n",
        "  tmp = n1\n",
        "elif n2>=n3 and n2>=n3:\n",
        "  tmp = n2\n",
        "else:\n",
        "  tmp=n3\n",
        "print(f'입력된 세 수 {n1},{n2},{n3} 중에서 가장 큰 수는 {tmp}입니다.')"
      ],
      "metadata": {
        "colab": {
          "base_uri": "https://localhost:8080/"
        },
        "id": "yS_a1gLektRk",
        "outputId": "82681498-bf89-4054-a931-c0af767c263a"
      },
      "execution_count": null,
      "outputs": [
        {
          "output_type": "stream",
          "name": "stdout",
          "text": [
            "첫번째 정수를 입력하세요: 5\n",
            "두번째 정수를 입력하세요: 5\n",
            "세번째 정수를 입력하세요: 5\n",
            "입력된 세 수 5,5,5 중에서 가장 큰 수는 5입니다.\n"
          ]
        }
      ]
    },
    {
      "cell_type": "code",
      "source": [
        "print(\"\"\"서비스 만족도:\n",
        "1: 매우만족\n",
        "2: 만족\n",
        "3:불만족 서비스\"\"\")\n",
        "\n",
        "chk=int(input('만족도 입력(1 또는 2 또는 3): '))\n",
        "price=int(input('음식값 입력(예: 8000): '))\n",
        "if chk==1:\n",
        "  tmp='매우 만족'\n",
        "  tip=price*0.2\n",
        "elif chk==2:\n",
        "  tmp='만족'\n",
        "  tip=price*0.1\n",
        "elif chk==3:\n",
        "  tmp='불만족 서비스'\n",
        "  tip=price*0.05\n",
        "print(f'서비스 만족도: {tmp}, 팁: %d원' %tip)"
      ],
      "metadata": {
        "colab": {
          "base_uri": "https://localhost:8080/"
        },
        "id": "fVarGBREluTf",
        "outputId": "70289a05-efbf-40d6-a832-392d11af2967"
      },
      "execution_count": null,
      "outputs": [
        {
          "output_type": "stream",
          "name": "stdout",
          "text": [
            "서비스 만족도:\n",
            "1: 매우만족\n",
            "2: 만족\n",
            "3:불만족 서비스\n",
            "만족도 입력(1 또는 2 또는 3): 1\n",
            "음식값 입력(예: 8000): 9000\n",
            "서비스 만족도: 매우 만족, 팁: 1800원\n"
          ]
        }
      ]
    },
    {
      "cell_type": "code",
      "source": [
        "n1=int(input('현재년을 입력해 주세요 :'))\n",
        "n2=int(input('현재월을 입력해 주세요 :'))\n",
        "n3=int(input('현재일을 입력해 주세요 :'))\n",
        "n4=int(input('출생년을 입력해 주세요 :'))\n",
        "n5=int(input('출생월을 입력해 주세요 :'))\n",
        "n6=int(input('출생일을 입력해 주세요 :'))\n",
        "print('-'*30)\n",
        "print(f'오늘 날짜: {n1}년 {n2}월 {n3}일')\n",
        "print(f'생년 월일: {n4}년 {n5}월 {n6}일')\n",
        "print('-'*30)\n",
        "\n",
        "age=n1-n4\n",
        "if n5>n2:\n",
        "  age = age-1\n",
        "elif n5==n2 and n4>=n1:\n",
        "    age=age-1\n",
        "#else:\n",
        "#  age= n1-n4-1\n",
        "\n",
        "print(f'만 나이: {age}세')  \n",
        "print('-'*30)"
      ],
      "metadata": {
        "colab": {
          "base_uri": "https://localhost:8080/"
        },
        "id": "AyRIZL5GrLOc",
        "outputId": "dba91628-7d43-4c56-f373-bdeb2913498d"
      },
      "execution_count": null,
      "outputs": [
        {
          "output_type": "stream",
          "name": "stdout",
          "text": [
            "현재년을 입력해 주세요 :2020\n",
            "현재월을 입력해 주세요 :1\n",
            "현재일을 입력해 주세요 :27\n",
            "출생년을 입력해 주세요 :1997\n",
            "출생월을 입력해 주세요 :5\n",
            "출생일을 입력해 주세요 :7\n",
            "------------------------------\n",
            "오늘 날짜: 2020년 1월 27일\n",
            "생년 월일: 1997년 5월 7일\n",
            "------------------------------\n",
            "만 나이: 22세\n",
            "------------------------------\n"
          ]
        }
      ]
    },
    {
      "cell_type": "code",
      "source": [
        "\n"
      ],
      "metadata": {
        "id": "eCJ309Ok2rj4"
      },
      "execution_count": null,
      "outputs": []
    }
  ]
}