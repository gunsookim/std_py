{
  "nbformat": 4,
  "nbformat_minor": 0,
  "metadata": {
    "colab": {
      "provenance": [],
      "authorship_tag": "ABX9TyN3ylwm1f+aj1k2GiL4TTOb",
      "include_colab_link": true
    },
    "kernelspec": {
      "name": "python3",
      "display_name": "Python 3"
    },
    "language_info": {
      "name": "python"
    }
  },
  "cells": [
    {
      "cell_type": "markdown",
      "metadata": {
        "id": "view-in-github",
        "colab_type": "text"
      },
      "source": [
        "<a href=\"https://colab.research.google.com/github/gunsookim/std_py/blob/main/20230516.ipynb\" target=\"_parent\"><img src=\"https://colab.research.google.com/assets/colab-badge.svg\" alt=\"Open In Colab\"/></a>"
      ]
    },
    {
      "cell_type": "code",
      "execution_count": null,
      "metadata": {
        "colab": {
          "base_uri": "https://localhost:8080/"
        },
        "id": "XmZ5GPUp46hY",
        "outputId": "ef160308-cad8-4a8c-ad1e-021446881c38"
      },
      "outputs": [
        {
          "output_type": "stream",
          "name": "stdout",
          "text": [
            "1\n",
            "4\n",
            "5\n"
          ]
        }
      ],
      "source": [
        "b = [1,2,3,4,5]\n",
        "print(b[0])\n",
        "print(b[0]+b[2])\n",
        "print(b[-1])"
      ]
    },
    {
      "cell_type": "code",
      "source": [
        "new_a = [1,2,3,4,5,['a','b','c','d'], 7,8,9]\n",
        "print(new_a)\n",
        "print(new_a [0])\n",
        "print(new_a[-1])\n",
        "print(new_a[5])"
      ],
      "metadata": {
        "colab": {
          "base_uri": "https://localhost:8080/"
        },
        "id": "8M0tLZ9v5MTf",
        "outputId": "5f93d728-d3da-4c49-cd5a-308122c3585e"
      },
      "execution_count": null,
      "outputs": [
        {
          "output_type": "stream",
          "name": "stdout",
          "text": [
            "[1, 2, 3, 4, 5, ['a', 'b', 'c', 'd'], 7, 8, 9]\n",
            "1\n",
            "9\n",
            "['a', 'b', 'c', 'd']\n"
          ]
        }
      ]
    },
    {
      "cell_type": "code",
      "source": [
        "print(new_a[5][2])"
      ],
      "metadata": {
        "colab": {
          "base_uri": "https://localhost:8080/"
        },
        "id": "lVBsWQ8t5iyq",
        "outputId": "27012c6a-3993-44d6-d7b3-03b71a6e9b1f"
      },
      "execution_count": null,
      "outputs": [
        {
          "output_type": "stream",
          "name": "stdout",
          "text": [
            "c\n"
          ]
        }
      ]
    },
    {
      "cell_type": "code",
      "source": [
        "b= [1,2,3,4,5]\n",
        "print(b[:3])\n",
        "c='12345'\n",
        "print(c[:4])\n",
        "print(b[3:])\n"
      ],
      "metadata": {
        "colab": {
          "base_uri": "https://localhost:8080/"
        },
        "id": "YmPj5QHj5o4u",
        "outputId": "61437235-50b1-4d6d-ac0c-85603dd09cbc"
      },
      "execution_count": null,
      "outputs": [
        {
          "output_type": "stream",
          "name": "stdout",
          "text": [
            "[1, 2, 3]\n",
            "1234\n",
            "[4, 5]\n"
          ]
        }
      ]
    },
    {
      "cell_type": "code",
      "source": [
        "print(new_a[:5])\n",
        "print(new_a[0:5:2])\n",
        "print(new_a[0:5:3])\n",
        "print(new_a[0:5:4])"
      ],
      "metadata": {
        "colab": {
          "base_uri": "https://localhost:8080/"
        },
        "id": "0SBWSa8e9AVd",
        "outputId": "36551526-b791-4b8c-c8e5-46cb420e2257"
      },
      "execution_count": null,
      "outputs": [
        {
          "output_type": "stream",
          "name": "stdout",
          "text": [
            "[1, 2, 3, 4, 5]\n",
            "[1, 3, 5]\n",
            "[1, 4]\n",
            "[1, 5]\n"
          ]
        }
      ]
    },
    {
      "cell_type": "code",
      "source": [
        "print(new_a[5][:2])"
      ],
      "metadata": {
        "colab": {
          "base_uri": "https://localhost:8080/"
        },
        "id": "5OHRUBSO9YMJ",
        "outputId": "5f458528-d74a-4f96-e1db-93e28b4bbd94"
      },
      "execution_count": null,
      "outputs": [
        {
          "output_type": "stream",
          "name": "stdout",
          "text": [
            "['a', 'b']\n"
          ]
        }
      ]
    },
    {
      "cell_type": "code",
      "source": [
        "a=[1,2,3,4]\n",
        "b=[6,7,8,9,]\n",
        "print(a+b)\n",
        "print(a*2)\n",
        "print(len(a))\n",
        "k=[12345678]\n",
        "print(len(k))"
      ],
      "metadata": {
        "colab": {
          "base_uri": "https://localhost:8080/"
        },
        "id": "yOhN7ACm_UNA",
        "outputId": "10e21e96-2253-4fae-a962-83aad21384fc"
      },
      "execution_count": null,
      "outputs": [
        {
          "output_type": "stream",
          "name": "stdout",
          "text": [
            "[1, 2, 3, 4, 6, 7, 8, 9]\n",
            "[1, 2, 3, 4, 1, 2, 3, 4]\n",
            "4\n",
            "1\n"
          ]
        }
      ]
    },
    {
      "cell_type": "code",
      "source": [
        "m='12345678'\n",
        "print(len(m))\n",
        "c='good'\n",
        "#print(b+c)\n",
        "#print(b+[c])\n",
        "new_c=['good']\n",
        "print(b+new_c)"
      ],
      "metadata": {
        "colab": {
          "base_uri": "https://localhost:8080/"
        },
        "id": "GZxVY5ON_4vN",
        "outputId": "8e34e417-ae7f-4f22-e96b-0a6a496d91b1"
      },
      "execution_count": null,
      "outputs": [
        {
          "output_type": "stream",
          "name": "stdout",
          "text": [
            "8\n",
            "[6, 7, 8, 9, 'good']\n"
          ]
        }
      ]
    },
    {
      "cell_type": "code",
      "source": [
        "a=[1,2,3,4,['a','b','c']]\n",
        "print(a)\n",
        "b = [6,7,8,9]\n",
        "print(len(a))\n",
        "#print(sum(a))\n",
        "print(sum(b))\n",
        "print(max(b))\n",
        "print(min(b))\n",
        "del b[0]\n",
        "print(b)\n",
        "print(b.pop(0))\n",
        "b=[6,7,8,9]\n",
        "print(str(b[0]))\n",
        "b[0]=str(b[0])\n",
        "print(b)"
      ],
      "metadata": {
        "colab": {
          "base_uri": "https://localhost:8080/"
        },
        "id": "DG7AUNqaAGGK",
        "outputId": "6609e5b8-0bcd-4a95-e6af-c457a2c1a0b1"
      },
      "execution_count": null,
      "outputs": [
        {
          "output_type": "stream",
          "name": "stdout",
          "text": [
            "[1, 2, 3, 4, ['a', 'b', 'c']]\n",
            "5\n",
            "30\n",
            "9\n",
            "6\n",
            "[7, 8, 9]\n",
            "7\n",
            "6\n",
            "['6', 7, 8, 9]\n"
          ]
        }
      ]
    },
    {
      "cell_type": "code",
      "source": [
        "del(a[0])"
      ],
      "metadata": {
        "id": "ptg68ClZHLH_"
      },
      "execution_count": null,
      "outputs": []
    },
    {
      "cell_type": "code",
      "source": [
        "print(a)"
      ],
      "metadata": {
        "colab": {
          "base_uri": "https://localhost:8080/"
        },
        "id": "SBh4qOyoJL89",
        "outputId": "2a72556a-dc6d-4458-c667-8992ca79a746"
      },
      "execution_count": null,
      "outputs": [
        {
          "output_type": "stream",
          "name": "stdout",
          "text": [
            "[2, 3, 4, ['a', 'b', 'c']]\n"
          ]
        }
      ]
    },
    {
      "cell_type": "code",
      "source": [
        "b=['6','7','8','9']\n",
        "b+['10']\n",
        "print(b)\n",
        "b.append('10')\n",
        "print(b)\n",
        "print(b+['11','12'])\n",
        "b.append(['11','12'])\n",
        "print(b)\n",
        "b.extend(['11','12'])\n",
        "print(b)\n",
        "c=['6','9','8','7']\n",
        "c.sort()\n",
        "print(c)\n",
        "d=['x','z','y']\n",
        "d.sort()\n",
        "print(d)"
      ],
      "metadata": {
        "colab": {
          "base_uri": "https://localhost:8080/"
        },
        "id": "IN-2ulqqJa14",
        "outputId": "d8332a9d-7037-42c8-808a-2aaf6dfab6b1"
      },
      "execution_count": null,
      "outputs": [
        {
          "output_type": "stream",
          "name": "stdout",
          "text": [
            "['6', '7', '8', '9']\n",
            "['6', '7', '8', '9', '10']\n",
            "['6', '7', '8', '9', '10', '11', '12']\n",
            "['6', '7', '8', '9', '10', ['11', '12']]\n",
            "['6', '7', '8', '9', '10', ['11', '12'], '11', '12']\n",
            "['6', '7', '8', '9']\n",
            "['x', 'y', 'z']\n"
          ]
        }
      ]
    },
    {
      "cell_type": "code",
      "source": [
        "c.sort(reverse=True)\n",
        "print(c)"
      ],
      "metadata": {
        "colab": {
          "base_uri": "https://localhost:8080/"
        },
        "id": "zYW2eigYMTBI",
        "outputId": "980b97e5-5481-4043-ad2c-4d7f75419d50"
      },
      "execution_count": null,
      "outputs": [
        {
          "output_type": "stream",
          "name": "stdout",
          "text": [
            "['9', '8', '7', '6']\n"
          ]
        }
      ]
    },
    {
      "cell_type": "code",
      "source": [
        "c.insert(4, '10')\n",
        "print(c)\n",
        "c.insert(0,'5')\n",
        "print(c)"
      ],
      "metadata": {
        "colab": {
          "base_uri": "https://localhost:8080/"
        },
        "id": "1gAunjPBPA87",
        "outputId": "9a0e9b1d-e7a9-4d95-e195-442f09a9b862"
      },
      "execution_count": null,
      "outputs": [
        {
          "output_type": "stream",
          "name": "stdout",
          "text": [
            "['9', '8', '7', '6', '10', '10']\n",
            "['5', '9', '8', '7', '6', '10', '10']\n"
          ]
        }
      ]
    },
    {
      "cell_type": "code",
      "source": [
        "e=['3','4','3','4','5']\n",
        "e.remove('4')\n",
        "print(e)\n",
        "e.remove('4')\n",
        "print(e)\n",
        "e.pop()\n",
        "print(e)\n",
        "c=[6,6,6,6,6,7,8,9]\n",
        "print(c.count(6))"
      ],
      "metadata": {
        "colab": {
          "base_uri": "https://localhost:8080/"
        },
        "id": "wYmRUmbAPg1m",
        "outputId": "2d6b6b06-cbae-4802-c3b3-b90b8231c11b"
      },
      "execution_count": null,
      "outputs": [
        {
          "output_type": "stream",
          "name": "stdout",
          "text": [
            "['3', '3', '4', '5']\n",
            "['3', '3', '5']\n",
            "['3', '3']\n",
            "5\n"
          ]
        }
      ]
    },
    {
      "cell_type": "code",
      "source": [
        "a=['We', 'are','the','world']\n",
        "b=' '.join(a)\n",
        "a=[8,8,8]\n",
        "print(a+[1,5])\n",
        "a.extend('cola')\n",
        "print(a)\n",
        "a.extend(['cola'])\n",
        "print(a)\n",
        "m_r=['알라딘', '토이스토리', '기생충']\n",
        "print(m_r)\n",
        "m_r.append('롱 리브 더 킹')\n",
        "print(m_r)\n",
        "m_r.insert(m_r.index('기생충'), '슈퍼맨 리턴즈')\n",
        "print(m_r)\n",
        "m_r.remove('기생충')\n",
        "print(m_r)\n",
        "A=['BTS', '엑소', '뉴이스트']\n",
        "B=['Black Pink', '아이즈원', '트와이스']\n",
        "AB = A+B\n",
        "print(AB)"
      ],
      "metadata": {
        "colab": {
          "base_uri": "https://localhost:8080/"
        },
        "id": "b8bqbUmxQ8Np",
        "outputId": "082a377f-c99b-4e14-9bac-ca5b2297d4eb"
      },
      "execution_count": null,
      "outputs": [
        {
          "output_type": "stream",
          "name": "stdout",
          "text": [
            "[8, 8, 8, 1, 5]\n",
            "[8, 8, 8, 'c', 'o', 'l', 'a']\n",
            "[8, 8, 8, 'c', 'o', 'l', 'a', 'cola']\n",
            "['알라딘', '토이스토리', '기생충']\n",
            "['알라딘', '토이스토리', '기생충', '롱 리브 더 킹']\n",
            "['알라딘', '토이스토리', '슈퍼맨 리턴즈', '기생충', '롱 리브 더 킹']\n",
            "['알라딘', '토이스토리', '슈퍼맨 리턴즈', '롱 리브 더 킹']\n",
            "['BTS', '엑소', '뉴이스트', 'Black Pink', '아이즈원', '트와이스']\n"
          ]
        }
      ]
    },
    {
      "cell_type": "code",
      "source": [
        "num = [1,2,3,4,5,6,7,8,9,10]\n",
        "print(max(num))\n",
        "print(min(num))\n",
        "print(sum(num))\n",
        "cook=['피자','김밥','만두','양념치킨','족발']\n",
        "print(len(cook))\n",
        "print(sum(num)/len(num))\n",
        "price=['20190625',1000,3000,4000,5000,7000]\n",
        "print(price[1:])\n",
        "num=[1,2,3,4,5,6,7,8,9,10]\n",
        "print(num[1::2])\n",
        "print(num[0::2])\n",
        "print(num[::-1])\n",
        "string='구글/아마존/페이스북'\n",
        "print(string)\n",
        "wish=string.split('/')\n",
        "print(wish)"
      ],
      "metadata": {
        "colab": {
          "base_uri": "https://localhost:8080/"
        },
        "id": "vmXUiOW7VA6U",
        "outputId": "4596c21f-15bb-4247-e3f2-08986c0c1130"
      },
      "execution_count": null,
      "outputs": [
        {
          "output_type": "stream",
          "name": "stdout",
          "text": [
            "10\n",
            "1\n",
            "55\n",
            "5\n",
            "5.5\n",
            "[1000, 3000, 4000, 5000, 7000]\n",
            "[2, 4, 6, 8, 10]\n",
            "[1, 3, 5, 7, 9]\n",
            "[10, 9, 8, 7, 6, 5, 4, 3, 2, 1]\n",
            "구글/아마존/페이스북\n",
            "['구글', '아마존', '페이스북']\n"
          ]
        }
      ]
    },
    {
      "cell_type": "code",
      "source": [
        "a=()\n",
        "print(a, type(a))\n",
        "b=(1)\n",
        "print(b,type(b))\n",
        "b=(1,)\n",
        "print(b,type(b))\n",
        "b=tuple([1])\n",
        "print(b, type(b))\n",
        "c=(1,2,3)\n",
        "print(c, type(c))"
      ],
      "metadata": {
        "colab": {
          "base_uri": "https://localhost:8080/"
        },
        "id": "Gt0jqqLFZhCU",
        "outputId": "49f9aa2c-324c-4d95-9f27-c2ecf09fb274"
      },
      "execution_count": null,
      "outputs": [
        {
          "output_type": "stream",
          "name": "stdout",
          "text": [
            "() <class 'tuple'>\n",
            "1 <class 'int'>\n",
            "(1,) <class 'tuple'>\n",
            "(1,) <class 'tuple'>\n",
            "(1, 2, 3) <class 'tuple'>\n"
          ]
        }
      ]
    },
    {
      "cell_type": "code",
      "source": [
        "e=(1,2,('ab','cd'),3,4)\n",
        "print(e[0])\n",
        "del e[0]\n",
        "print(e)\n",
        "e.remove(1)\n",
        "print(e)\n",
        "e.pop(0)\n",
        "print(e)"
      ],
      "metadata": {
        "colab": {
          "base_uri": "https://localhost:8080/",
          "height": 263
        },
        "id": "KPXhxYy9gmVc",
        "outputId": "8a109eeb-127a-4173-a007-3b6498849e7a"
      },
      "execution_count": null,
      "outputs": [
        {
          "output_type": "stream",
          "name": "stdout",
          "text": [
            "1\n"
          ]
        },
        {
          "output_type": "error",
          "ename": "TypeError",
          "evalue": "ignored",
          "traceback": [
            "\u001b[0;31m---------------------------------------------------------------------------\u001b[0m",
            "\u001b[0;31mTypeError\u001b[0m                                 Traceback (most recent call last)",
            "\u001b[0;32m<ipython-input-97-f55c8c5022ef>\u001b[0m in \u001b[0;36m<cell line: 3>\u001b[0;34m()\u001b[0m\n\u001b[1;32m      1\u001b[0m \u001b[0me\u001b[0m\u001b[0;34m=\u001b[0m\u001b[0;34m(\u001b[0m\u001b[0;36m1\u001b[0m\u001b[0;34m,\u001b[0m\u001b[0;36m2\u001b[0m\u001b[0;34m,\u001b[0m\u001b[0;34m(\u001b[0m\u001b[0;34m'ab'\u001b[0m\u001b[0;34m,\u001b[0m\u001b[0;34m'cd'\u001b[0m\u001b[0;34m)\u001b[0m\u001b[0;34m,\u001b[0m\u001b[0;36m3\u001b[0m\u001b[0;34m,\u001b[0m\u001b[0;36m4\u001b[0m\u001b[0;34m)\u001b[0m\u001b[0;34m\u001b[0m\u001b[0;34m\u001b[0m\u001b[0m\n\u001b[1;32m      2\u001b[0m \u001b[0mprint\u001b[0m\u001b[0;34m(\u001b[0m\u001b[0me\u001b[0m\u001b[0;34m[\u001b[0m\u001b[0;36m0\u001b[0m\u001b[0;34m]\u001b[0m\u001b[0;34m)\u001b[0m\u001b[0;34m\u001b[0m\u001b[0;34m\u001b[0m\u001b[0m\n\u001b[0;32m----> 3\u001b[0;31m \u001b[0;32mdel\u001b[0m \u001b[0me\u001b[0m\u001b[0;34m[\u001b[0m\u001b[0;36m0\u001b[0m\u001b[0;34m]\u001b[0m\u001b[0;34m\u001b[0m\u001b[0;34m\u001b[0m\u001b[0m\n\u001b[0m\u001b[1;32m      4\u001b[0m \u001b[0mprint\u001b[0m\u001b[0;34m(\u001b[0m\u001b[0me\u001b[0m\u001b[0;34m)\u001b[0m\u001b[0;34m\u001b[0m\u001b[0;34m\u001b[0m\u001b[0m\n\u001b[1;32m      5\u001b[0m \u001b[0me\u001b[0m\u001b[0;34m.\u001b[0m\u001b[0mremove\u001b[0m\u001b[0;34m(\u001b[0m\u001b[0;36m1\u001b[0m\u001b[0;34m)\u001b[0m\u001b[0;34m\u001b[0m\u001b[0;34m\u001b[0m\u001b[0m\n",
            "\u001b[0;31mTypeError\u001b[0m: 'tuple' object doesn't support item deletion"
          ]
        }
      ]
    },
    {
      "cell_type": "code",
      "source": [
        "c=(1,2,3)\n",
        "e=(1,2,('ab','cd'),3,4)\n",
        "print(e[:])\n",
        "print(c+e)\n",
        "print(c*2)\n",
        "print(len(c))"
      ],
      "metadata": {
        "colab": {
          "base_uri": "https://localhost:8080/"
        },
        "id": "8NzftHC8jciz",
        "outputId": "117978b2-48e0-459c-fc9e-b79b08504e11"
      },
      "execution_count": null,
      "outputs": [
        {
          "output_type": "stream",
          "name": "stdout",
          "text": [
            "(1, 2, ('ab', 'cd'), 3, 4)\n",
            "(1, 2, 3, 1, 2, ('ab', 'cd'), 3, 4)\n",
            "(1, 2, 3, 1, 2, 3)\n",
            "3\n"
          ]
        }
      ]
    },
    {
      "cell_type": "code",
      "source": [
        "x,y,z=(1,2,3)\n",
        "print(x,y,z)\n",
        "print(x)\n",
        "print(y)\n",
        "print(z)"
      ],
      "metadata": {
        "colab": {
          "base_uri": "https://localhost:8080/"
        },
        "id": "mTFCSXOXkeiY",
        "outputId": "87f7cbfd-5b83-4c3f-c969-279350a587e9"
      },
      "execution_count": null,
      "outputs": [
        {
          "output_type": "stream",
          "name": "stdout",
          "text": [
            "1 2 3\n",
            "1\n",
            "2\n",
            "3\n"
          ]
        }
      ]
    },
    {
      "cell_type": "code",
      "source": [
        "DS=()\n",
        "print(DS)\n",
        "a=(1,)\n",
        "print(a,type(a))\n",
        "t=1,2,3,4\n",
        "print(t, type(t))\n",
        "x=('a','b','c')\n",
        "print(x)\n",
        "x=('A','b','c')\n",
        "print(x)\n",
        "wish=('구글','아마존','페이스북')    # tuple -> list\n",
        "print(wish, type(wish))\n",
        "wish=list(wish)\n",
        "print(wish, type(wish))\n",
        "wish=['구글','아마존','페이스북']    # list -> tuple\n",
        "print(wish, type(wish))\n",
        "wish=tuple(wish)\n",
        "print(wish, type(wish))\n",
        "my_data=(1,2,3)\n",
        "a,b,c=my_data\n",
        "print(a+b+c)\n",
        "print((4,2,1,8)+(9,))"
      ],
      "metadata": {
        "colab": {
          "base_uri": "https://localhost:8080/"
        },
        "id": "oUxmfGlxkl4E",
        "outputId": "1cd503fe-5de1-4363-cd00-0270c65f04bb"
      },
      "execution_count": null,
      "outputs": [
        {
          "output_type": "stream",
          "name": "stdout",
          "text": [
            "()\n",
            "(1,) <class 'tuple'>\n",
            "(1, 2, 3, 4) <class 'tuple'>\n",
            "('a', 'b', 'c')\n",
            "('A', 'b', 'c')\n",
            "('구글', '아마존', '페이스북') <class 'tuple'>\n",
            "['구글', '아마존', '페이스북'] <class 'list'>\n",
            "['구글', '아마존', '페이스북'] <class 'list'>\n",
            "('구글', '아마존', '페이스북') <class 'tuple'>\n",
            "6\n",
            "(4, 2, 1, 8, 9)\n"
          ]
        }
      ]
    },
    {
      "cell_type": "code",
      "source": [
        "x = ('a','b','c')\n",
        "print(x, type(x))\n",
        "x=list(x)\n",
        "print(x, type(x))\n",
        "x[0]='A'\n",
        "print(x)\n",
        "tuple(x)\n",
        "print(x,type(x))"
      ],
      "metadata": {
        "colab": {
          "base_uri": "https://localhost:8080/"
        },
        "id": "ff_oKqXhnZY2",
        "outputId": "79b79960-1325-448b-ff7e-c8abbdc19fa3"
      },
      "execution_count": null,
      "outputs": [
        {
          "output_type": "stream",
          "name": "stdout",
          "text": [
            "('a', 'b', 'c') <class 'tuple'>\n",
            "['a', 'b', 'c'] <class 'list'>\n",
            "['A', 'b', 'c']\n",
            "['A', 'b', 'c'] <class 'list'>\n"
          ]
        }
      ]
    },
    {
      "cell_type": "code",
      "source": [
        "mina={'성별':'여성','나이':30,'이름':'mina'}\n",
        "print(mina)\n",
        "type(mina)"
      ],
      "metadata": {
        "colab": {
          "base_uri": "https://localhost:8080/"
        },
        "id": "8LKJ4bU_pnks",
        "outputId": "b6e8012d-331a-48a7-e528-94283620e794"
      },
      "execution_count": null,
      "outputs": [
        {
          "output_type": "stream",
          "name": "stdout",
          "text": [
            "{'성별': '여성', '나이': 30, '이름': 'mina'}\n"
          ]
        },
        {
          "output_type": "execute_result",
          "data": {
            "text/plain": [
              "dict"
            ]
          },
          "metadata": {},
          "execution_count": 114
        }
      ]
    },
    {
      "cell_type": "code",
      "source": [
        "print(mina['성별'], mina['나이'], mina['이름'])"
      ],
      "metadata": {
        "colab": {
          "base_uri": "https://localhost:8080/"
        },
        "id": "6IaPPoy79DOh",
        "outputId": "71a097cd-f2a7-4070-9696-b7a33af8a49d"
      },
      "execution_count": null,
      "outputs": [
        {
          "output_type": "stream",
          "name": "stdout",
          "text": [
            "여성 30 mina\n"
          ]
        }
      ]
    },
    {
      "cell_type": "code",
      "source": [
        "mina={'성별':'여성','나이':30,'이름':'mina', '나이':50}\n",
        "print(mina)"
      ],
      "metadata": {
        "colab": {
          "base_uri": "https://localhost:8080/"
        },
        "id": "IxdYbU_B-7JQ",
        "outputId": "1e6e925c-cac4-4099-acaa-27c3db290792"
      },
      "execution_count": null,
      "outputs": [
        {
          "output_type": "stream",
          "name": "stdout",
          "text": [
            "{'성별': '여성', '나이': 50, '이름': 'mina'}\n"
          ]
        }
      ]
    },
    {
      "cell_type": "code",
      "source": [
        "{1:'good'}"
      ],
      "metadata": {
        "colab": {
          "base_uri": "https://localhost:8080/"
        },
        "id": "-5DuqIOS_Zqp",
        "outputId": "febe3185-2eb7-40aa-a08e-53ee3620fe00"
      },
      "execution_count": null,
      "outputs": [
        {
          "output_type": "execute_result",
          "data": {
            "text/plain": [
              "{1: 'good'}"
            ]
          },
          "metadata": {},
          "execution_count": 127
        }
      ]
    },
    {
      "cell_type": "code",
      "source": [
        "{'a':[1,3,5]}"
      ],
      "metadata": {
        "colab": {
          "base_uri": "https://localhost:8080/"
        },
        "id": "I7f9UE72AnbI",
        "outputId": "4d52fd1e-da3f-4a13-b382-16b144d61e84"
      },
      "execution_count": null,
      "outputs": [
        {
          "output_type": "execute_result",
          "data": {
            "text/plain": [
              "{'a': [1, 3, 5]}"
            ]
          },
          "metadata": {},
          "execution_count": 128
        }
      ]
    },
    {
      "cell_type": "code",
      "source": [
        "{'a':(1,3,5)}"
      ],
      "metadata": {
        "colab": {
          "base_uri": "https://localhost:8080/"
        },
        "id": "QftpZrjeA8rq",
        "outputId": "3909a7d5-c66f-44eb-de89-a51b9c49ac5b"
      },
      "execution_count": null,
      "outputs": [
        {
          "output_type": "execute_result",
          "data": {
            "text/plain": [
              "{'a': (1, 3, 5)}"
            ]
          },
          "metadata": {},
          "execution_count": 132
        }
      ]
    },
    {
      "cell_type": "code",
      "source": [
        "{[1,3,5]:'a'}"
      ],
      "metadata": {
        "colab": {
          "base_uri": "https://localhost:8080/",
          "height": 172
        },
        "id": "nrv6_NUtA98j",
        "outputId": "61259190-03ee-435f-ee98-26b89aef0c47"
      },
      "execution_count": null,
      "outputs": [
        {
          "output_type": "error",
          "ename": "TypeError",
          "evalue": "ignored",
          "traceback": [
            "\u001b[0;31m---------------------------------------------------------------------------\u001b[0m",
            "\u001b[0;31mTypeError\u001b[0m                                 Traceback (most recent call last)",
            "\u001b[0;32m<ipython-input-133-515cfea3ad16>\u001b[0m in \u001b[0;36m<cell line: 1>\u001b[0;34m()\u001b[0m\n\u001b[0;32m----> 1\u001b[0;31m \u001b[0;34m{\u001b[0m\u001b[0;34m[\u001b[0m\u001b[0;36m1\u001b[0m\u001b[0;34m,\u001b[0m\u001b[0;36m3\u001b[0m\u001b[0;34m,\u001b[0m\u001b[0;36m5\u001b[0m\u001b[0;34m]\u001b[0m\u001b[0;34m:\u001b[0m\u001b[0;34m'a'\u001b[0m\u001b[0;34m}\u001b[0m\u001b[0;34m\u001b[0m\u001b[0;34m\u001b[0m\u001b[0m\n\u001b[0m",
            "\u001b[0;31mTypeError\u001b[0m: unhashable type: 'list'"
          ]
        }
      ]
    },
    {
      "cell_type": "code",
      "source": [
        "{(1,3,5):'a'}"
      ],
      "metadata": {
        "colab": {
          "base_uri": "https://localhost:8080/"
        },
        "id": "G-X9UvLeBB6_",
        "outputId": "9677cec3-3f89-4d7c-9f56-c280ebdad0e9"
      },
      "execution_count": null,
      "outputs": [
        {
          "output_type": "execute_result",
          "data": {
            "text/plain": [
              "{(1, 3, 5): 'a'}"
            ]
          },
          "metadata": {},
          "execution_count": 135
        }
      ]
    },
    {
      "cell_type": "code",
      "source": [
        "my_info={}\n",
        "print(my_info)\n",
        "my_info['key1']='value1'\n",
        "print(my_info)\n",
        "my_info['key2']='value2'\n",
        "print(my_info)\n",
        "my_info['key1']='value2'\n",
        "print(my_info)"
      ],
      "metadata": {
        "colab": {
          "base_uri": "https://localhost:8080/"
        },
        "id": "RU6sSEgSBDk3",
        "outputId": "999ac0b5-1105-4ad3-fe06-df52c8e6bc8b"
      },
      "execution_count": null,
      "outputs": [
        {
          "output_type": "stream",
          "name": "stdout",
          "text": [
            "{}\n",
            "{'key1': 'value1'}\n",
            "{'key1': 'value1', 'key2': 'value2'}\n",
            "{'key1': 'value2', 'key2': 'value2'}\n"
          ]
        }
      ]
    },
    {
      "cell_type": "code",
      "source": [
        "my_info={}\n",
        "print(my_info)\n",
        "my_info['name']='HGD'\n",
        "print(my_info)\n",
        "my_info['number']=1\n",
        "print(my_info)"
      ],
      "metadata": {
        "colab": {
          "base_uri": "https://localhost:8080/"
        },
        "id": "nvFNVovGBoWC",
        "outputId": "a613b770-4b73-4bff-dac1-87a03a031836"
      },
      "execution_count": null,
      "outputs": [
        {
          "output_type": "stream",
          "name": "stdout",
          "text": [
            "{}\n",
            "{'name': 'HGD'}\n",
            "{'name': 'HGD', 'number': 1}\n"
          ]
        }
      ]
    },
    {
      "cell_type": "code",
      "source": [
        "del my_info['number']\n",
        "print(my_info)"
      ],
      "metadata": {
        "colab": {
          "base_uri": "https://localhost:8080/"
        },
        "id": "rg-AM3AQCmJa",
        "outputId": "33bf7953-0fde-417d-d4bc-8077e72c2c1b"
      },
      "execution_count": null,
      "outputs": [
        {
          "output_type": "stream",
          "name": "stdout",
          "text": [
            "{'name': 'HGD'}\n"
          ]
        }
      ]
    },
    {
      "cell_type": "code",
      "source": [
        "score={'A':99,'B':91,'C':83,'D':100 }\n",
        "print(score['C'])"
      ],
      "metadata": {
        "colab": {
          "base_uri": "https://localhost:8080/"
        },
        "id": "RnnbovqrCwaP",
        "outputId": "175c9680-dedf-4663-b7db-fae20e1357b6"
      },
      "execution_count": null,
      "outputs": [
        {
          "output_type": "stream",
          "name": "stdout",
          "text": [
            "83\n"
          ]
        }
      ]
    },
    {
      "cell_type": "code",
      "source": [
        "name={}\n",
        "print(name)\n",
        "name['1번']='a'\n",
        "name['2번']='b'\n",
        "name['3번']='c'\n",
        "print(name)"
      ],
      "metadata": {
        "colab": {
          "base_uri": "https://localhost:8080/"
        },
        "id": "SF-SU-eVDUX4",
        "outputId": "229aa927-3a26-4ba2-a124-00d72992f3ce"
      },
      "execution_count": null,
      "outputs": [
        {
          "output_type": "stream",
          "name": "stdout",
          "text": [
            "{}\n",
            "{'1번': 'a', '2번': 'b', '3번': 'c'}\n"
          ]
        }
      ]
    },
    {
      "cell_type": "code",
      "source": [
        "{'name':['a','b','c']}"
      ],
      "metadata": {
        "colab": {
          "base_uri": "https://localhost:8080/"
        },
        "id": "KqdJ59wRDnot",
        "outputId": "c0769dd2-0eec-42a6-d952-055c454779e0"
      },
      "execution_count": null,
      "outputs": [
        {
          "output_type": "execute_result",
          "data": {
            "text/plain": [
              "{'name': ['a', 'b', 'c']}"
            ]
          },
          "metadata": {},
          "execution_count": 143
        }
      ]
    },
    {
      "cell_type": "code",
      "source": [
        "a={'gender':'Female','age':30,'name':'Kristina'}\n",
        "print(a.keys())\n",
        "print(list(a.keys()))\n",
        "print(a.values())\n",
        "print(a.items())\n",
        "a.clear()\n",
        "print(a)\n"
      ],
      "metadata": {
        "colab": {
          "base_uri": "https://localhost:8080/"
        },
        "id": "lPrb3DfkFJMk",
        "outputId": "cbbc6fc0-dbe6-4216-b54a-36968ab0ae10"
      },
      "execution_count": null,
      "outputs": [
        {
          "output_type": "stream",
          "name": "stdout",
          "text": [
            "dict_keys(['gender', 'age', 'name'])\n",
            "['gender', 'age', 'name']\n",
            "dict_values(['Female', 30, 'Kristina'])\n",
            "dict_items([('gender', 'Female'), ('age', 30), ('name', 'Kristina')])\n",
            "{}\n"
          ]
        }
      ]
    },
    {
      "cell_type": "code",
      "source": [
        "print(a)\n",
        "a={'gender':'Female','age':30,'name':'Kristina'}\n",
        "print(a)\n",
        "print(a.get('gender'))\n",
        "print(a.get('height'))\n",
        "print(a)\n",
        "print(a.get('height', '?'))\n",
        "a.get('height', '?')\n",
        "print(a)\n",
        "print('gender' in a)\n",
        "print('height' in a)"
      ],
      "metadata": {
        "colab": {
          "base_uri": "https://localhost:8080/"
        },
        "id": "55rJcArnGY27",
        "outputId": "27e3f7d7-64d4-4a57-ef31-0e03c5f0ab77"
      },
      "execution_count": null,
      "outputs": [
        {
          "output_type": "stream",
          "name": "stdout",
          "text": [
            "{'gender': 'Female', 'age': 30, 'name': 'Kristina'}\n",
            "{'gender': 'Female', 'age': 30, 'name': 'Kristina'}\n",
            "Female\n",
            "None\n",
            "{'gender': 'Female', 'age': 30, 'name': 'Kristina'}\n",
            "?\n",
            "{'gender': 'Female', 'age': 30, 'name': 'Kristina'}\n",
            "True\n",
            "False\n"
          ]
        }
      ]
    },
    {
      "cell_type": "code",
      "source": [
        "a={1}\n",
        "print(a)"
      ],
      "metadata": {
        "colab": {
          "base_uri": "https://localhost:8080/"
        },
        "id": "_xtAkVhJGrho",
        "outputId": "abf96c18-8b1e-446d-e968-35b4202573d8"
      },
      "execution_count": null,
      "outputs": [
        {
          "output_type": "stream",
          "name": "stdout",
          "text": [
            "{1}\n"
          ]
        }
      ]
    },
    {
      "cell_type": "code",
      "source": [
        "a={}\n",
        "print(a, type(a))\n",
        "a=set()\n",
        "print(a, type(a))"
      ],
      "metadata": {
        "colab": {
          "base_uri": "https://localhost:8080/"
        },
        "id": "8iHXwlcOLgvm",
        "outputId": "6ba29518-8b3f-4422-8c19-c26a52a7e613"
      },
      "execution_count": null,
      "outputs": [
        {
          "output_type": "stream",
          "name": "stdout",
          "text": [
            "{} <class 'dict'>\n",
            "set() <class 'set'>\n"
          ]
        }
      ]
    },
    {
      "cell_type": "code",
      "source": [
        "sc=set('abcdef')\n",
        "print(sc)"
      ],
      "metadata": {
        "colab": {
          "base_uri": "https://localhost:8080/"
        },
        "id": "cIqaqxwKLvIh",
        "outputId": "5bf265ad-94f5-4b3d-f25d-2e5b7106083c"
      },
      "execution_count": null,
      "outputs": [
        {
          "output_type": "stream",
          "name": "stdout",
          "text": [
            "{'d', 'f', 'c', 'b', 'e', 'a'}\n"
          ]
        }
      ]
    },
    {
      "cell_type": "code",
      "source": [
        "#print(sc[0])"
      ],
      "metadata": {
        "id": "VGyHcLpQLzSq"
      },
      "execution_count": null,
      "outputs": []
    },
    {
      "cell_type": "code",
      "source": [
        "x={1,2,3,4,5}\n",
        "y={3,4,5,6,7}\n",
        "print(x&y)\n",
        "print(x|y)"
      ],
      "metadata": {
        "colab": {
          "base_uri": "https://localhost:8080/"
        },
        "id": "5gfoA-kLL23K",
        "outputId": "79fdbfe5-1102-4327-977f-34abdd39c7ac"
      },
      "execution_count": null,
      "outputs": [
        {
          "output_type": "stream",
          "name": "stdout",
          "text": [
            "{3, 4, 5}\n",
            "{1, 2, 3, 4, 5, 6, 7}\n"
          ]
        }
      ]
    },
    {
      "cell_type": "code",
      "source": [
        "print(x-y)"
      ],
      "metadata": {
        "colab": {
          "base_uri": "https://localhost:8080/"
        },
        "id": "eNWrpsbeOzKH",
        "outputId": "55d98f3a-87d7-44d2-d236-727cbcaae189"
      },
      "execution_count": null,
      "outputs": [
        {
          "output_type": "stream",
          "name": "stdout",
          "text": [
            "{1, 2}\n"
          ]
        }
      ]
    },
    {
      "cell_type": "code",
      "source": [
        "print(y-x)"
      ],
      "metadata": {
        "colab": {
          "base_uri": "https://localhost:8080/"
        },
        "id": "Xh1LXvceO06U",
        "outputId": "5a5b4a1d-d25c-4d99-e25e-242e3377a4eb"
      },
      "execution_count": null,
      "outputs": [
        {
          "output_type": "stream",
          "name": "stdout",
          "text": [
            "{6, 7}\n"
          ]
        }
      ]
    },
    {
      "cell_type": "code",
      "source": [
        "print(x^y)"
      ],
      "metadata": {
        "colab": {
          "base_uri": "https://localhost:8080/"
        },
        "id": "DkH0LhZ4O4T7",
        "outputId": "3c7a904b-9575-4c33-fe91-eee71206c75b"
      },
      "execution_count": null,
      "outputs": [
        {
          "output_type": "stream",
          "name": "stdout",
          "text": [
            "{1, 2, 6, 7}\n"
          ]
        }
      ]
    },
    {
      "cell_type": "code",
      "source": [
        "print(x.symmetric_difference(y))"
      ],
      "metadata": {
        "colab": {
          "base_uri": "https://localhost:8080/"
        },
        "id": "XABs5IBlO6ET",
        "outputId": "acf08d16-f7db-40d5-ecd5-b083c6fad2f0"
      },
      "execution_count": null,
      "outputs": [
        {
          "output_type": "stream",
          "name": "stdout",
          "text": [
            "{1, 2, 6, 7}\n"
          ]
        }
      ]
    },
    {
      "cell_type": "code",
      "source": [
        "print(x)"
      ],
      "metadata": {
        "colab": {
          "base_uri": "https://localhost:8080/"
        },
        "id": "p6Z6KteQQch5",
        "outputId": "fed5f0d5-36bc-4fb6-af0d-d1197b6971c4"
      },
      "execution_count": null,
      "outputs": [
        {
          "output_type": "stream",
          "name": "stdout",
          "text": [
            "{1, 2, 3, 4, 5}\n"
          ]
        }
      ]
    },
    {
      "cell_type": "code",
      "source": [
        "print(x)\n",
        "x.add(10)\n",
        "print(x)\n",
        "x.update([11,12,13])\n",
        "print(x)\n",
        "x.remove(13)\n",
        "print(x)"
      ],
      "metadata": {
        "colab": {
          "base_uri": "https://localhost:8080/"
        },
        "id": "9wuTynTuQjxK",
        "outputId": "af8c3287-2a96-4b34-f2f9-01fa66203473"
      },
      "execution_count": null,
      "outputs": [
        {
          "output_type": "stream",
          "name": "stdout",
          "text": [
            "{1, 2, 3, 4, 5}\n",
            "{1, 2, 3, 4, 5, 10}\n",
            "{1, 2, 3, 4, 5, 10, 11, 12, 13}\n",
            "{1, 2, 3, 4, 5, 10, 11, 12}\n"
          ]
        }
      ]
    },
    {
      "cell_type": "code",
      "source": [
        "DS={}\n",
        "icecream={'메로나':1000, '폴라포':1200, '빵빠레':1800}\n",
        "icecream['죠스바']=1200\n",
        "icecream['월드콘']=1500\n",
        "print(icecream['메로나'])\n",
        "icecream['메로나']=1200\n",
        "print(icecream)\n",
        "del icecream['메로나']\n",
        "print(icecream)\n",
        "inventory={'메로나':[300,20], '비비빅':[400,3], '죠스바':[250,100]}\n",
        "print(inventory['메로나'][0])\n",
        "print(inventory['메로나'][1])"
      ],
      "metadata": {
        "colab": {
          "base_uri": "https://localhost:8080/"
        },
        "id": "OuI8VIDGRbHn",
        "outputId": "4f70c185-a587-4629-cc5a-732a1b346489"
      },
      "execution_count": null,
      "outputs": [
        {
          "output_type": "stream",
          "name": "stdout",
          "text": [
            "1000\n",
            "{'메로나': 1200, '폴라포': 1200, '빵빠레': 1800, '죠스바': 1200, '월드콘': 1500}\n",
            "{'폴라포': 1200, '빵빠레': 1800, '죠스바': 1200, '월드콘': 1500}\n",
            "300\n",
            "20\n"
          ]
        }
      ]
    },
    {
      "cell_type": "markdown",
      "source": [
        "# 새 섹션"
      ],
      "metadata": {
        "id": "fooifW5bCgrP"
      }
    },
    {
      "cell_type": "markdown",
      "source": [
        "# 새 섹션"
      ],
      "metadata": {
        "id": "R-9711qZChMl"
      }
    },
    {
      "cell_type": "code",
      "source": [
        "inventory['월드콘']=[500,7]\n",
        "print(inventory)"
      ],
      "metadata": {
        "colab": {
          "base_uri": "https://localhost:8080/"
        },
        "id": "_ghLNo6ETFkc",
        "outputId": "6c356ada-5fac-4c86-f443-d53ead9c4daa"
      },
      "execution_count": null,
      "outputs": [
        {
          "output_type": "stream",
          "name": "stdout",
          "text": [
            "{'메로나': [300, 20], '비비빅': [400, 3], '죠스바': [250, 100], '월드콘': [500, 7]}\n"
          ]
        }
      ]
    },
    {
      "cell_type": "code",
      "source": [
        "icecream_1={'메로나':1000, '폴라포':1200, '빵빠레':1800}\n",
        "print(icecream_1)\n",
        "icecream_1['죠스바']=1200\n",
        "icecream_1['월드콘']=1500\n",
        "print(icecream_1)"
      ],
      "metadata": {
        "colab": {
          "base_uri": "https://localhost:8080/"
        },
        "id": "egmvKxZyTTNn",
        "outputId": "7996274e-18d2-42cc-cbe9-a3b23c8723f6"
      },
      "execution_count": null,
      "outputs": [
        {
          "output_type": "stream",
          "name": "stdout",
          "text": [
            "{'메로나': 1000, '폴라포': 1200, '빵빠레': 1800}\n",
            "{'메로나': 1000, '폴라포': 1200, '빵빠레': 1800, '죠스바': 1200, '월드콘': 1500}\n"
          ]
        }
      ]
    },
    {
      "cell_type": "code",
      "source": [
        "icecream_2={'이름':['메로나', '폴라포', '빵빠레'],'가격':[1000,1200,800]}\n",
        "print(icecream_2)\n",
        "icecream_2['이름'] += ['죠스바','월드콘']\n",
        "icecream_2['가격'] += [1200,1500]\n",
        "print(icecream_2)"
      ],
      "metadata": {
        "colab": {
          "base_uri": "https://localhost:8080/"
        },
        "id": "8Rcja6eOWT3r",
        "outputId": "bbc7356e-3de1-4386-f1b5-612376c7bc66"
      },
      "execution_count": null,
      "outputs": [
        {
          "output_type": "stream",
          "name": "stdout",
          "text": [
            "{'이름': ['메로나', '폴라포', '빵빠레'], '가격': [1000, 1200, 800]}\n",
            "{'이름': ['메로나', '폴라포', '빵빠레', '죠스바', '월드콘'], '가격': [1000, 1200, 800, 1200, 1500]}\n"
          ]
        }
      ]
    },
    {
      "cell_type": "code",
      "source": [
        "#-----"
      ],
      "metadata": {
        "id": "btMzgzs8WjPb"
      },
      "execution_count": null,
      "outputs": []
    }
  ]
}