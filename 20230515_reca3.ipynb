{
  "nbformat": 4,
  "nbformat_minor": 0,
  "metadata": {
    "colab": {
      "provenance": [],
      "authorship_tag": "ABX9TyMjbHdHvGquGSXuuGie1nGu",
      "include_colab_link": true
    },
    "kernelspec": {
      "name": "python3",
      "display_name": "Python 3"
    },
    "language_info": {
      "name": "python"
    }
  },
  "cells": [
    {
      "cell_type": "markdown",
      "metadata": {
        "id": "view-in-github",
        "colab_type": "text"
      },
      "source": [
        "<a href=\"https://colab.research.google.com/github/gunsookim/std_py/blob/main/20230515_reca3.ipynb\" target=\"_parent\"><img src=\"https://colab.research.google.com/assets/colab-badge.svg\" alt=\"Open In Colab\"/></a>"
      ]
    },
    {
      "cell_type": "code",
      "execution_count": null,
      "metadata": {
        "id": "YwnGptA_zRWq"
      },
      "outputs": [],
      "source": [
        "a = 365"
      ]
    },
    {
      "cell_type": "code",
      "source": [
        "print(a)"
      ],
      "metadata": {
        "colab": {
          "base_uri": "https://localhost:8080/"
        },
        "id": "ydlEP6Kf1ZjD",
        "outputId": "11dd3781-c2bf-41fd-fcdf-9803f48dc82a"
      },
      "execution_count": null,
      "outputs": [
        {
          "output_type": "stream",
          "name": "stdout",
          "text": [
            "365\n"
          ]
        }
      ]
    },
    {
      "cell_type": "code",
      "source": [
        "b = 0b101101101\n",
        "print(b)"
      ],
      "metadata": {
        "colab": {
          "base_uri": "https://localhost:8080/"
        },
        "id": "FAuuTG5K191v",
        "outputId": "028c3a70-972e-4434-dca7-504ee1ade5d8"
      },
      "execution_count": null,
      "outputs": [
        {
          "output_type": "stream",
          "name": "stdout",
          "text": [
            "365\n"
          ]
        }
      ]
    },
    {
      "cell_type": "code",
      "source": [
        "c = 0o555\n",
        "print(c)"
      ],
      "metadata": {
        "colab": {
          "base_uri": "https://localhost:8080/"
        },
        "id": "ba4z90tX2GhR",
        "outputId": "4d6a61ce-e657-48b2-e14c-e1cfb68d98f8"
      },
      "execution_count": null,
      "outputs": [
        {
          "output_type": "stream",
          "name": "stdout",
          "text": [
            "365\n"
          ]
        }
      ]
    },
    {
      "cell_type": "code",
      "source": [
        "d = 0x16d\n",
        "print(d)"
      ],
      "metadata": {
        "colab": {
          "base_uri": "https://localhost:8080/"
        },
        "id": "MwT1KYYfBfuU",
        "outputId": "c489629f-8c8f-4be1-9956-cef736c0ff58"
      },
      "execution_count": null,
      "outputs": [
        {
          "output_type": "stream",
          "name": "stdout",
          "text": [
            "365\n"
          ]
        }
      ]
    },
    {
      "cell_type": "code",
      "source": [
        "bin(365)"
      ],
      "metadata": {
        "colab": {
          "base_uri": "https://localhost:8080/",
          "height": 35
        },
        "id": "C5niPpFiBiGx",
        "outputId": "b65444f5-43c1-4e83-e79f-5f67881ed006"
      },
      "execution_count": null,
      "outputs": [
        {
          "output_type": "execute_result",
          "data": {
            "text/plain": [
              "'0b101101101'"
            ],
            "application/vnd.google.colaboratory.intrinsic+json": {
              "type": "string"
            }
          },
          "metadata": {},
          "execution_count": 20
        }
      ]
    },
    {
      "cell_type": "code",
      "source": [
        "oct(365)"
      ],
      "metadata": {
        "colab": {
          "base_uri": "https://localhost:8080/",
          "height": 35
        },
        "id": "glKsKKgbCfBH",
        "outputId": "c36749fe-fd21-4515-cc54-c63ddab1375c"
      },
      "execution_count": null,
      "outputs": [
        {
          "output_type": "execute_result",
          "data": {
            "text/plain": [
              "'0o555'"
            ],
            "application/vnd.google.colaboratory.intrinsic+json": {
              "type": "string"
            }
          },
          "metadata": {},
          "execution_count": 21
        }
      ]
    },
    {
      "cell_type": "code",
      "source": [
        "hex(365)"
      ],
      "metadata": {
        "colab": {
          "base_uri": "https://localhost:8080/",
          "height": 35
        },
        "id": "T-1psGCnC1V2",
        "outputId": "e960ce2a-c945-40d7-cbb0-9e61e1c3c803"
      },
      "execution_count": null,
      "outputs": [
        {
          "output_type": "execute_result",
          "data": {
            "text/plain": [
              "'0x16d'"
            ],
            "application/vnd.google.colaboratory.intrinsic+json": {
              "type": "string"
            }
          },
          "metadata": {},
          "execution_count": 22
        }
      ]
    },
    {
      "cell_type": "code",
      "source": [
        "format(365)"
      ],
      "metadata": {
        "colab": {
          "base_uri": "https://localhost:8080/",
          "height": 35
        },
        "id": "OW9FsB6jC4J-",
        "outputId": "f93b89f1-0f04-4e63-9c8f-61325a919575"
      },
      "execution_count": null,
      "outputs": [
        {
          "output_type": "execute_result",
          "data": {
            "text/plain": [
              "'365'"
            ],
            "application/vnd.google.colaboratory.intrinsic+json": {
              "type": "string"
            }
          },
          "metadata": {},
          "execution_count": 23
        }
      ]
    },
    {
      "cell_type": "code",
      "source": [
        "fa = 3.14"
      ],
      "metadata": {
        "id": "qRJubQ8RD718"
      },
      "execution_count": null,
      "outputs": []
    },
    {
      "cell_type": "code",
      "source": [
        "fb = -3.14"
      ],
      "metadata": {
        "id": "-4ab5D-HFxNS"
      },
      "execution_count": null,
      "outputs": []
    },
    {
      "cell_type": "code",
      "source": [
        "fc = 3.1415e2"
      ],
      "metadata": {
        "id": "Ge277OshFy91"
      },
      "execution_count": null,
      "outputs": []
    },
    {
      "cell_type": "code",
      "source": [
        "fd = 3.1415e-2"
      ],
      "metadata": {
        "id": "BKL6MQJBF1tb"
      },
      "execution_count": null,
      "outputs": []
    },
    {
      "cell_type": "code",
      "source": [
        "print(fa, fb, fc, fd)"
      ],
      "metadata": {
        "colab": {
          "base_uri": "https://localhost:8080/"
        },
        "id": "pHWubpbdF53v",
        "outputId": "7a385d77-2310-4075-cce2-0abfd8a00d89"
      },
      "execution_count": null,
      "outputs": [
        {
          "output_type": "stream",
          "name": "stdout",
          "text": [
            "3.14 -3.14 314.15 0.031415\n"
          ]
        }
      ]
    },
    {
      "cell_type": "code",
      "source": [
        "korean, english, mathmetics, codeing = 95, 60, 75, 100"
      ],
      "metadata": {
        "id": "RnDVoMqMF92e"
      },
      "execution_count": null,
      "outputs": []
    },
    {
      "cell_type": "code",
      "source": [
        "avg = (korean +  english + mathmetics + codeing)/4"
      ],
      "metadata": {
        "id": "nI-zzTpmGfAu"
      },
      "execution_count": null,
      "outputs": []
    },
    {
      "cell_type": "code",
      "source": [
        "print(avg)"
      ],
      "metadata": {
        "colab": {
          "base_uri": "https://localhost:8080/"
        },
        "id": "4HPp69qvJ42R",
        "outputId": "9b99bb8a-fbb4-4a14-854a-d73be0519e72"
      },
      "execution_count": null,
      "outputs": [
        {
          "output_type": "stream",
          "name": "stdout",
          "text": [
            "82.5\n"
          ]
        }
      ]
    },
    {
      "cell_type": "code",
      "source": [
        "score = [95, 60, 75, 100]\n",
        "avg = sum(score)/len(score)\n",
        "print(avg)"
      ],
      "metadata": {
        "colab": {
          "base_uri": "https://localhost:8080/"
        },
        "id": "DbXQQ46GJ57T",
        "outputId": "868a4ae8-9857-40e6-85b7-a185797f1395"
      },
      "execution_count": null,
      "outputs": [
        {
          "output_type": "stream",
          "name": "stdout",
          "text": [
            "82.5\n"
          ]
        }
      ]
    },
    {
      "cell_type": "code",
      "source": [
        "an_apple = 27\n",
        "an_example = 42"
      ],
      "metadata": {
        "id": "n0EYW9vrKJNU"
      },
      "execution_count": null,
      "outputs": []
    },
    {
      "cell_type": "code",
      "source": [
        "print(an_apple)"
      ],
      "metadata": {
        "colab": {
          "base_uri": "https://localhost:8080/"
        },
        "id": "g2VUJNzwLXR0",
        "outputId": "b8edef6a-b34b-485e-bece-e6ba907f0632"
      },
      "execution_count": null,
      "outputs": [
        {
          "output_type": "stream",
          "name": "stdout",
          "text": [
            "27\n"
          ]
        }
      ]
    },
    {
      "cell_type": "code",
      "source": [
        "an_example??"
      ],
      "metadata": {
        "id": "38_VyQhALlS7"
      },
      "execution_count": null,
      "outputs": []
    },
    {
      "cell_type": "code",
      "source": [
        "ba = True\n",
        "bb = False\n",
        "print(bb and ba, bb and bb, ba and bb, ba and ba)\n",
        "print(bb or ba, bb or bb, ba or bb, ba or ba)"
      ],
      "metadata": {
        "colab": {
          "base_uri": "https://localhost:8080/"
        },
        "id": "uODi-2LtL39x",
        "outputId": "35129d9d-3bbc-41fe-9bb2-18999d7163a2"
      },
      "execution_count": null,
      "outputs": [
        {
          "output_type": "stream",
          "name": "stdout",
          "text": [
            "False False False True\n",
            "True False True True\n"
          ]
        }
      ]
    },
    {
      "cell_type": "code",
      "source": [
        "x, y = 0, 1\n",
        "print(x == y)\n",
        "print(x != y)\n",
        "print(x > y)\n",
        "print(x < y)\n",
        "print(x >= y)\n",
        "print(x <= y)\n"
      ],
      "metadata": {
        "colab": {
          "base_uri": "https://localhost:8080/"
        },
        "id": "6Evu_cJeM0X7",
        "outputId": "ca62b4f7-8c7c-42ba-b1c9-44e65f72f0f1"
      },
      "execution_count": null,
      "outputs": [
        {
          "output_type": "stream",
          "name": "stdout",
          "text": [
            "False\n",
            "True\n",
            "False\n",
            "True\n",
            "False\n",
            "True\n"
          ]
        }
      ]
    },
    {
      "cell_type": "code",
      "source": [
        "x, y = 0, 0\n",
        "print(x == y)\n",
        "print(x != y)\n",
        "print(x > y)\n",
        "print(x < y)\n",
        "print(x >= y)\n",
        "print(x <= y)\n"
      ],
      "metadata": {
        "colab": {
          "base_uri": "https://localhost:8080/"
        },
        "id": "w3_PcpvoPzJk",
        "outputId": "f34d6168-4427-4508-de14-8f10f365f9b5"
      },
      "execution_count": null,
      "outputs": [
        {
          "output_type": "stream",
          "name": "stdout",
          "text": [
            "True\n",
            "False\n",
            "False\n",
            "False\n",
            "True\n",
            "True\n"
          ]
        }
      ]
    },
    {
      "cell_type": "code",
      "source": [
        "print(bool([]))\n",
        "print(bool(()))\n",
        "print(bool({}))\n",
        "print(bool(0))\n",
        "print(bool(1))"
      ],
      "metadata": {
        "colab": {
          "base_uri": "https://localhost:8080/"
        },
        "id": "pzvLEdd7P-Uo",
        "outputId": "11fbc04f-8fe4-434d-c44c-8769d5e9a849"
      },
      "execution_count": null,
      "outputs": [
        {
          "output_type": "stream",
          "name": "stdout",
          "text": [
            "False\n",
            "False\n",
            "False\n",
            "False\n",
            "True\n"
          ]
        }
      ]
    },
    {
      "cell_type": "code",
      "source": [
        "sa ='Hello World'\n",
        "sb = 'Tom\\'s favorite food'\n",
        "sc = '\\\"You are right.\\\"I said.'\n",
        "sd =  'Tom\\'s favorite \\n food'\n",
        "se =  '\\\"You are right.\\\" \\nI said.'\n",
        "n = '12\\\\n34'\n"
      ],
      "metadata": {
        "id": "_cCIHIGQQL-Q"
      },
      "execution_count": null,
      "outputs": []
    },
    {
      "cell_type": "code",
      "source": [
        "print(sa)\n",
        "print(sb)\n",
        "print(sc)\n",
        "print(sd)\n",
        "print(se)\n",
        "print(n)"
      ],
      "metadata": {
        "colab": {
          "base_uri": "https://localhost:8080/"
        },
        "id": "li3gq5zOQjtY",
        "outputId": "4d5c0f98-5b1c-4e97-8792-d4bea7f990ad"
      },
      "execution_count": null,
      "outputs": [
        {
          "output_type": "stream",
          "name": "stdout",
          "text": [
            "Hello World\n",
            "Tom's favorite food\n",
            "\"You are right.\"I said.\n",
            "Tom's favorite \n",
            " food\n",
            "\"You are right.\" \n",
            "I said.\n",
            "12\\n34\n"
          ]
        }
      ]
    },
    {
      "cell_type": "code",
      "source": [
        "'Hello' + 'World'"
      ],
      "metadata": {
        "colab": {
          "base_uri": "https://localhost:8080/",
          "height": 35
        },
        "id": "lr6N0N8dUUfj",
        "outputId": "9a4774b7-c694-4bfb-a23c-5d33457f4a43"
      },
      "execution_count": null,
      "outputs": [
        {
          "output_type": "execute_result",
          "data": {
            "text/plain": [
              "'HelloWorld'"
            ],
            "application/vnd.google.colaboratory.intrinsic+json": {
              "type": "string"
            }
          },
          "metadata": {},
          "execution_count": 77
        }
      ]
    },
    {
      "cell_type": "code",
      "source": [
        "'Hello' * 2"
      ],
      "metadata": {
        "colab": {
          "base_uri": "https://localhost:8080/",
          "height": 35
        },
        "id": "9RtWxZX8aiQ-",
        "outputId": "3a48905f-6518-4ac9-8465-5645d47f57d2"
      },
      "execution_count": null,
      "outputs": [
        {
          "output_type": "execute_result",
          "data": {
            "text/plain": [
              "'HelloHello'"
            ],
            "application/vnd.google.colaboratory.intrinsic+json": {
              "type": "string"
            }
          },
          "metadata": {},
          "execution_count": 78
        }
      ]
    },
    {
      "cell_type": "code",
      "source": [
        "eng = 80\n",
        "result = '영어점수:' + str(eng) + '점'\n",
        "print(result)"
      ],
      "metadata": {
        "colab": {
          "base_uri": "https://localhost:8080/"
        },
        "id": "hJ45_wcfamwH",
        "outputId": "2a50a307-4a60-4e1e-9174-c88d149faeb4"
      },
      "execution_count": null,
      "outputs": [
        {
          "output_type": "stream",
          "name": "stdout",
          "text": [
            "영어점수:80점\n"
          ]
        }
      ]
    },
    {
      "cell_type": "code",
      "source": [
        "eng = '80'\n",
        "result = '영어점수:' + eng + '점'\n",
        "print(result)"
      ],
      "metadata": {
        "colab": {
          "base_uri": "https://localhost:8080/"
        },
        "id": "KY8zqiRpa-Bg",
        "outputId": "d5c87632-6fb9-4b72-da0d-f12b080fb26d"
      },
      "execution_count": null,
      "outputs": [
        {
          "output_type": "stream",
          "name": "stdout",
          "text": [
            "영어점수:80점\n"
          ]
        }
      ]
    },
    {
      "cell_type": "code",
      "source": [
        "print(len('this is etiverse learning'))"
      ],
      "metadata": {
        "colab": {
          "base_uri": "https://localhost:8080/"
        },
        "id": "O3uiZT8ebRKF",
        "outputId": "eaf71f1c-ec98-43fa-89af-d93210d36a1f"
      },
      "execution_count": null,
      "outputs": [
        {
          "output_type": "stream",
          "name": "stdout",
          "text": [
            "25\n"
          ]
        }
      ]
    },
    {
      "cell_type": "code",
      "source": [
        "s = 'this is a string'\n",
        "print(s[0])\n",
        "print(s[4])\n",
        "print(s[0:6])\n",
        "print(s[-6:])\n",
        "print(s[:])"
      ],
      "metadata": {
        "colab": {
          "base_uri": "https://localhost:8080/"
        },
        "id": "CK_Cxgmocg5t",
        "outputId": "e64671e4-a362-4db7-e316-a1e121f3f020"
      },
      "execution_count": null,
      "outputs": [
        {
          "output_type": "stream",
          "name": "stdout",
          "text": [
            "t\n",
            " \n",
            "this i\n",
            "string\n",
            "this is a string\n"
          ]
        }
      ]
    },
    {
      "cell_type": "code",
      "source": [
        "s.replace('string', 'rope')"
      ],
      "metadata": {
        "colab": {
          "base_uri": "https://localhost:8080/",
          "height": 35
        },
        "id": "C3ytj477d_2t",
        "outputId": "aedbc443-806a-47e3-833b-1893a0827e69"
      },
      "execution_count": null,
      "outputs": [
        {
          "output_type": "execute_result",
          "data": {
            "text/plain": [
              "'this is a rope'"
            ],
            "application/vnd.google.colaboratory.intrinsic+json": {
              "type": "string"
            }
          },
          "metadata": {},
          "execution_count": 89
        }
      ]
    },
    {
      "cell_type": "code",
      "source": [
        "name = '김수영'\n",
        "print('나는 %s 입니다.' %name)"
      ],
      "metadata": {
        "colab": {
          "base_uri": "https://localhost:8080/"
        },
        "id": "Ox9uxjfj0vue",
        "outputId": "72fbf0cd-1382-4a93-b573-4cf956b4ee98"
      },
      "execution_count": null,
      "outputs": [
        {
          "output_type": "stream",
          "name": "stdout",
          "text": [
            "나는 김수영 입니다.\n"
          ]
        }
      ]
    },
    {
      "cell_type": "code",
      "source": [
        "age = 20\n",
        "print('나이는 %d살입니다' %age)"
      ],
      "metadata": {
        "colab": {
          "base_uri": "https://localhost:8080/"
        },
        "id": "qUq7Nbet2ljE",
        "outputId": "f7c00b4f-d45b-4f1c-fffd-2345d0f27591"
      },
      "execution_count": null,
      "outputs": [
        {
          "output_type": "stream",
          "name": "stdout",
          "text": [
            "나이는 20살입니다\n"
          ]
        }
      ]
    },
    {
      "cell_type": "code",
      "source": [
        "year = 2022\n",
        "month = 9\n",
        "day = 5\n",
        "print('%d-%02d-%02d' %(year,month,day))"
      ],
      "metadata": {
        "colab": {
          "base_uri": "https://localhost:8080/"
        },
        "id": "e_anZdZx3cjo",
        "outputId": "c57b446f-154f-42a0-e06b-7e73e2ec6ca7"
      },
      "execution_count": null,
      "outputs": [
        {
          "output_type": "stream",
          "name": "stdout",
          "text": [
            "2022-09-05\n"
          ]
        }
      ]
    },
    {
      "cell_type": "code",
      "source": [
        "height = 172.5\n",
        "print('키는 %0.2f입니다' %height)"
      ],
      "metadata": {
        "colab": {
          "base_uri": "https://localhost:8080/"
        },
        "id": "H71wS9QC4sDI",
        "outputId": "03b2350a-3b61-4c46-9a32-5fe634cfba45"
      },
      "execution_count": null,
      "outputs": [
        {
          "output_type": "stream",
          "name": "stdout",
          "text": [
            "키는 172.50입니다\n"
          ]
        }
      ]
    },
    {
      "cell_type": "code",
      "source": [
        "e = 3\n",
        "print('I have %dchildren'%3)\n",
        "print('I have %schildren'%'three')\n",
        "print('I have %dchildren'%e)\n",
        "print('I have %fchildren%s'%(3.14, 'wow'))\n",
        "print('\\n')\n",
        "print('I have {} children'.format(3))\n",
        "print('I have {} children'.format('three'))\n",
        "print('I have {} children'.format(e))\n",
        "print('I have {} children {}'.format(3.14, 'wow'))\n",
        "print('I have {1} children {0}'.format(3.14, 'wow'))"
      ],
      "metadata": {
        "colab": {
          "base_uri": "https://localhost:8080/"
        },
        "id": "62kmZRdQ8FUV",
        "outputId": "8a877ed2-2493-4265-b496-9e1e452643fe"
      },
      "execution_count": null,
      "outputs": [
        {
          "output_type": "stream",
          "name": "stdout",
          "text": [
            "I have 3children\n",
            "I have threechildren\n",
            "I have 3children\n",
            "I have 3.140000childrenwow\n",
            "\n",
            "\n",
            "I have 3 children\n",
            "I have three children\n",
            "I have 3 children\n",
            "I have 3.14 children wow\n",
            "I have wow children 3.14\n"
          ]
        }
      ]
    },
    {
      "cell_type": "code",
      "source": [
        "print('This is %d%% True!' %100)"
      ],
      "metadata": {
        "colab": {
          "base_uri": "https://localhost:8080/"
        },
        "id": "rNb0Mk439vcs",
        "outputId": "694e4ba4-92d0-4482-af8f-044f203d93ec"
      },
      "execution_count": null,
      "outputs": [
        {
          "output_type": "stream",
          "name": "stdout",
          "text": [
            "This is 100%True!\n"
          ]
        }
      ]
    },
    {
      "cell_type": "code",
      "source": [
        "print('%10s' %'Good')"
      ],
      "metadata": {
        "colab": {
          "base_uri": "https://localhost:8080/"
        },
        "id": "_6bNKrARAq-X",
        "outputId": "ecee6417-c1e0-4dca-aa58-6ebb290cd7f0"
      },
      "execution_count": null,
      "outputs": [
        {
          "output_type": "stream",
          "name": "stdout",
          "text": [
            "      Good\n"
          ]
        }
      ]
    },
    {
      "cell_type": "code",
      "source": [
        "print('%-10s' %'Good')"
      ],
      "metadata": {
        "colab": {
          "base_uri": "https://localhost:8080/"
        },
        "id": "RbzXwEiHA275",
        "outputId": "accf79e6-bdd1-441c-d0cc-9cadd26c209c"
      },
      "execution_count": null,
      "outputs": [
        {
          "output_type": "stream",
          "name": "stdout",
          "text": [
            "Good      \n"
          ]
        }
      ]
    },
    {
      "cell_type": "code",
      "source": [
        "pi = 3.141592\n",
        "print('%0.2f' %pi)"
      ],
      "metadata": {
        "colab": {
          "base_uri": "https://localhost:8080/"
        },
        "id": "IO2jKHU7BCJN",
        "outputId": "486ef37a-13b3-429b-becc-99b5934c6513"
      },
      "execution_count": null,
      "outputs": [
        {
          "output_type": "stream",
          "name": "stdout",
          "text": [
            "3.14\n"
          ]
        }
      ]
    },
    {
      "cell_type": "code",
      "source": [
        "print('%20.2f' %pi)"
      ],
      "metadata": {
        "colab": {
          "base_uri": "https://localhost:8080/"
        },
        "id": "cRAwQz5SBMmK",
        "outputId": "4498bf38-35b2-4323-f098-3cc15d783b17"
      },
      "execution_count": null,
      "outputs": [
        {
          "output_type": "stream",
          "name": "stdout",
          "text": [
            "                3.14\n"
          ]
        }
      ]
    },
    {
      "cell_type": "code",
      "source": [
        "print('%.20f' %pi)"
      ],
      "metadata": {
        "colab": {
          "base_uri": "https://localhost:8080/"
        },
        "id": "fbi5kTe6BTCe",
        "outputId": "954eef18-f75a-42ef-d3f9-50301b158e60"
      },
      "execution_count": null,
      "outputs": [
        {
          "output_type": "stream",
          "name": "stdout",
          "text": [
            "3.14159200000000016217\n"
          ]
        }
      ]
    },
    {
      "cell_type": "code",
      "source": [
        "print('{:20}'.format('good'))"
      ],
      "metadata": {
        "colab": {
          "base_uri": "https://localhost:8080/"
        },
        "id": "EL1OsR_dEMwL",
        "outputId": "54a97bc8-439a-4fa1-f7fd-37bf13aad40f"
      },
      "execution_count": null,
      "outputs": [
        {
          "output_type": "stream",
          "name": "stdout",
          "text": [
            "good                \n"
          ]
        }
      ]
    },
    {
      "cell_type": "code",
      "source": [
        "print('{:20}'.format('good')) # 20자리 지정\n",
        "print('{0:20}'.format('good')) # 0번 인덱스에 삽입\n",
        "print('{0:<20}'.format('good')) # 왼쪽 정렬\n",
        "print('{0:>20}'.format('good')) #오른쪽 정렬\n",
        "print('{0:^20}'.format('good')) # 가운데 정렬\n",
        "print('{0:*^20}'.format('good')) # 공백을 특수문자로 채움"
      ],
      "metadata": {
        "colab": {
          "base_uri": "https://localhost:8080/"
        },
        "id": "epAi300qFH9k",
        "outputId": "af38f3f7-bec5-40a9-fd83-ef45c614f4f6"
      },
      "execution_count": null,
      "outputs": [
        {
          "output_type": "stream",
          "name": "stdout",
          "text": [
            "good                \n",
            "good                \n",
            "good                \n",
            "                good\n",
            "        good        \n",
            "********good********\n"
          ]
        }
      ]
    },
    {
      "cell_type": "code",
      "source": [
        "a = 4.5560\n",
        "b = 'Argentine Pesos'\n",
        "c = 1\n",
        "print('are worth US$')\n",
        "print('{0:.2f} {1} are worth US${2}'.format(a, b, c))\n",
        "print('%.2f %s are worth US$%d' %(a,b,c))"
      ],
      "metadata": {
        "colab": {
          "base_uri": "https://localhost:8080/"
        },
        "id": "a1_qtMP2FpVC",
        "outputId": "acdc33ac-61b8-48f2-8b77-0cc3b57789f3"
      },
      "execution_count": null,
      "outputs": [
        {
          "output_type": "stream",
          "name": "stdout",
          "text": [
            "are worth US$\n",
            "4.56 Argentine Pesos are worth US$1\n",
            "4.56 Argentine Pesos are worth US$1\n"
          ]
        }
      ]
    },
    {
      "cell_type": "code",
      "source": [
        "print('{우리집}에 놀러와요')\n",
        "print('{우리집}에 %s 놀러와요' %'자주')\n",
        "print('{{우리집}}에 {} 놀러와요'.format('자주'))"
      ],
      "metadata": {
        "colab": {
          "base_uri": "https://localhost:8080/"
        },
        "id": "BN5S0Rz9GYY1",
        "outputId": "06a073da-b6d7-43b0-8636-bf5b3ad94115"
      },
      "execution_count": null,
      "outputs": [
        {
          "output_type": "stream",
          "name": "stdout",
          "text": [
            "{우리집}에 놀러와요\n",
            "{우리집}에 자주 놀러와요\n",
            "{우리집}에 자주 놀러와요\n"
          ]
        }
      ]
    },
    {
      "cell_type": "code",
      "source": [
        "a = 3\n",
        "b = 'wow'\n",
        "print('I have children')\n",
        "print('I have' + str(a) + ' children'+ ' wow')\n",
        "print(f'I have {a} children {b}')\n",
        "print('{{good}}{{{}}}'.format('day'))\n",
        "print(f'{{good}}''{day}')"
      ],
      "metadata": {
        "colab": {
          "base_uri": "https://localhost:8080/"
        },
        "id": "IywEjBWWGpKF",
        "outputId": "90e1f28b-33eb-46af-f453-6c1412cb8301"
      },
      "execution_count": null,
      "outputs": [
        {
          "output_type": "stream",
          "name": "stdout",
          "text": [
            "I have children\n",
            "I have3 children wow\n",
            "I have 3 children wow\n",
            "{good}{day}\n",
            "{good}{day}\n"
          ]
        }
      ]
    },
    {
      "cell_type": "code",
      "source": [
        "sa = 'Korean culture'\n",
        "print(sa.count('u'))\n",
        "print(sa.find('K'))\n",
        "print(sa.find('k'))\n",
        "#print(sa.index('k'))\n",
        "print(' '.join(sa))\n",
        "print(','.join(sa))\n"
      ],
      "metadata": {
        "colab": {
          "base_uri": "https://localhost:8080/"
        },
        "id": "MzuKLyo_JVGJ",
        "outputId": "7c1c069b-7faf-4b4a-e09c-5ec6fb2d6fa7"
      },
      "execution_count": null,
      "outputs": [
        {
          "output_type": "stream",
          "name": "stdout",
          "text": [
            "2\n",
            "0\n",
            "-1\n",
            "K o r e a n   c u l t u r e\n",
            "K,o,r,e,a,n, ,c,u,l,t,u,r,e\n"
          ]
        }
      ]
    },
    {
      "cell_type": "code",
      "source": [
        "sa = 'korean culture'\n",
        "print(sa.upper())\n",
        "print(sa.lower())\n",
        "print('      Korean  '.strip())\n",
        "print('      Korean  '.lstrip())\n",
        "print('      Korean  '.rstrip())\n",
        "print('Korean culture'.replace('Korean', 'American'))\n",
        "print(sa.split(' '))\n",
        "print('Korean & culture'.replace('&', '').split())\n"
      ],
      "metadata": {
        "colab": {
          "base_uri": "https://localhost:8080/"
        },
        "id": "RT6FgJviPsdo",
        "outputId": "0db04c77-1bb3-4376-e60a-a6f21a04e65e"
      },
      "execution_count": null,
      "outputs": [
        {
          "output_type": "stream",
          "name": "stdout",
          "text": [
            "KOREAN CULTURE\n",
            "korean culture\n",
            "Korean\n",
            "Korean  \n",
            "      Korean\n",
            "American culture\n",
            "['korean', 'culture']\n",
            "['Korean', 'culture']\n"
          ]
        }
      ]
    },
    {
      "cell_type": "code",
      "source": [
        "print(r'C:\\nano')\n",
        "print('C:\\\\nano')"
      ],
      "metadata": {
        "colab": {
          "base_uri": "https://localhost:8080/"
        },
        "id": "NKQavTQuYgho",
        "outputId": "0bf06ed4-91ae-4dd0-cd79-ca8e234cdb1c"
      },
      "execution_count": null,
      "outputs": [
        {
          "output_type": "stream",
          "name": "stdout",
          "text": [
            "C:\\nano\n",
            "C:\\nano\n"
          ]
        }
      ]
    },
    {
      "cell_type": "code",
      "source": [
        "IU = '990316-2030998'\n",
        "print('IU = \\\"%s-%s\\\"' %(IU.replace('-',' ').split()[0], IU.replace('-',' ').split()[1]))\n",
        "print(IU.replace('-', ' ').split()[1][0])\n",
        "print('생년월일: ', IU[:6])\n",
        "print('고유번호: ', IU[7:])\n",
        "print('성별: ', IU[7])"
      ],
      "metadata": {
        "colab": {
          "base_uri": "https://localhost:8080/"
        },
        "id": "UGsS4Dl0Yj_c",
        "outputId": "ada80e32-42c7-4cef-93b6-b9eae4040d72"
      },
      "execution_count": null,
      "outputs": [
        {
          "output_type": "stream",
          "name": "stdout",
          "text": [
            "IU = \"990316-2030998\"\n",
            "2\n",
            "생년월일:  990316\n",
            "고유번호:  2030998\n",
            "성별:  2\n"
          ]
        }
      ]
    },
    {
      "cell_type": "code",
      "source": [
        "print('a:b:c:d'.replace(':', '@'))\n",
        "print('a&b&c&d'.split('&'))"
      ],
      "metadata": {
        "colab": {
          "base_uri": "https://localhost:8080/"
        },
        "id": "f9Kj4rpeZZVG",
        "outputId": "daa62fa6-fea5-44f0-f207-bc842436d9c5"
      },
      "execution_count": null,
      "outputs": [
        {
          "output_type": "stream",
          "name": "stdout",
          "text": [
            "a@b@c@d\n",
            "['a', 'b', 'c', 'd']\n"
          ]
        }
      ]
    },
    {
      "cell_type": "code",
      "source": [
        "print(int('720'), type(int('720')))"
      ],
      "metadata": {
        "colab": {
          "base_uri": "https://localhost:8080/"
        },
        "id": "sFa3hWENZ0ji",
        "outputId": "889007a4-dcb5-4888-a107-136569746513"
      },
      "execution_count": null,
      "outputs": [
        {
          "output_type": "stream",
          "name": "stdout",
          "text": [
            "720 <class 'int'>\n"
          ]
        }
      ]
    },
    {
      "cell_type": "code",
      "source": [
        "print(str(100), type(str(100)))"
      ],
      "metadata": {
        "colab": {
          "base_uri": "https://localhost:8080/"
        },
        "id": "ErjK9a-LZ4cQ",
        "outputId": "d79be194-b919-45b9-b03b-e303da5637b4"
      },
      "execution_count": null,
      "outputs": [
        {
          "output_type": "stream",
          "name": "stdout",
          "text": [
            "100 <class 'str'>\n"
          ]
        }
      ]
    },
    {
      "cell_type": "code",
      "source": [
        "game = '짝홀짝홀짝홀'\n",
        "print(game[::])\n",
        "print(game[1::2])"
      ],
      "metadata": {
        "colab": {
          "base_uri": "https://localhost:8080/"
        },
        "id": "FEgViDmbaAFM",
        "outputId": "1ba703cc-5840-4a78-bdd9-c7d561ac15e2"
      },
      "execution_count": null,
      "outputs": [
        {
          "output_type": "stream",
          "name": "stdout",
          "text": [
            "짝홀짝홀짝홀\n",
            "홀홀홀\n"
          ]
        }
      ]
    },
    {
      "cell_type": "code",
      "source": [
        "PN = '010-1234-5678'\n",
        "print(PN[0:3] + PN[4:8] + PN[9:]) # 슬라이싱 사용\n",
        "print(PN.replace('-', '')) # replace 사용\n",
        "print(PN.replace('-', ' '))"
      ],
      "metadata": {
        "colab": {
          "base_uri": "https://localhost:8080/"
        },
        "id": "2q7QQJM4aOpR",
        "outputId": "2cb78dde-3247-4bcd-df7d-6e46aa45ad66"
      },
      "execution_count": null,
      "outputs": [
        {
          "output_type": "stream",
          "name": "stdout",
          "text": [
            "01012345678\n",
            "01012345678\n",
            "010 1234 5678\n"
          ]
        }
      ]
    },
    {
      "cell_type": "code",
      "source": [
        "print(\"https://www.samsung.com\"[-3:])"
      ],
      "metadata": {
        "colab": {
          "base_uri": "https://localhost:8080/"
        },
        "id": "eTpWgwNnab0b",
        "outputId": "e2fedfad-ea72-4221-d28f-e6b9a2bf5c20"
      },
      "execution_count": null,
      "outputs": [
        {
          "output_type": "stream",
          "name": "stdout",
          "text": [
            "com\n"
          ]
        }
      ]
    },
    {
      "cell_type": "code",
      "source": [
        "a = []\n",
        "print(a)"
      ],
      "metadata": {
        "colab": {
          "base_uri": "https://localhost:8080/"
        },
        "id": "Qxk-o6ZAa_c3",
        "outputId": "92e92cef-40e1-47b9-bbe9-1ae733fd26b9"
      },
      "execution_count": null,
      "outputs": [
        {
          "output_type": "stream",
          "name": "stdout",
          "text": [
            "[]\n"
          ]
        }
      ]
    },
    {
      "cell_type": "code",
      "source": [
        "b = [1,2,3,4,5]\n",
        "print(b)"
      ],
      "metadata": {
        "colab": {
          "base_uri": "https://localhost:8080/"
        },
        "id": "9ghW6w4uh5Rw",
        "outputId": "402948a1-9456-4a95-eaa9-7ee38afbfde6"
      },
      "execution_count": null,
      "outputs": [
        {
          "output_type": "stream",
          "name": "stdout",
          "text": [
            "[1, 2, 3, 4, 5]\n"
          ]
        }
      ]
    },
    {
      "cell_type": "code",
      "source": [
        "c = ['red', 'blue','yellow']\n",
        "print(c)"
      ],
      "metadata": {
        "colab": {
          "base_uri": "https://localhost:8080/"
        },
        "id": "1nb361WDh8cn",
        "outputId": "5eb63f6f-e454-4e3f-d30f-bd2c4307e5cd"
      },
      "execution_count": null,
      "outputs": [
        {
          "output_type": "stream",
          "name": "stdout",
          "text": [
            "['red', 'blue', 'yellow']\n"
          ]
        }
      ]
    },
    {
      "cell_type": "code",
      "source": [
        "d= [1, 2, 'red', 'blue']\n",
        "print(d)"
      ],
      "metadata": {
        "colab": {
          "base_uri": "https://localhost:8080/"
        },
        "id": "hnOXB4ZJiBkO",
        "outputId": "c9085e2b-3e11-49fe-9264-89cd90e24737"
      },
      "execution_count": null,
      "outputs": [
        {
          "output_type": "stream",
          "name": "stdout",
          "text": [
            "[1, 2, 'red', 'blue']\n"
          ]
        }
      ]
    },
    {
      "cell_type": "code",
      "source": [
        "e = [1,2,'[red, blue]']\n",
        "print(e)"
      ],
      "metadata": {
        "colab": {
          "base_uri": "https://localhost:8080/"
        },
        "id": "dxL8APE2iJSI",
        "outputId": "25eb06f4-f92d-4740-f4ec-0c35c721e567"
      },
      "execution_count": null,
      "outputs": [
        {
          "output_type": "stream",
          "name": "stdout",
          "text": [
            "[1, 2, '[red, blue]']\n"
          ]
        }
      ]
    },
    {
      "cell_type": "markdown",
      "source": [],
      "metadata": {
        "id": "tuG1Leve3Tu0"
      }
    },
    {
      "cell_type": "code",
      "source": [
        "e = [1,2, ['red', 'blue']]\n",
        "print(e)"
      ],
      "metadata": {
        "colab": {
          "base_uri": "https://localhost:8080/"
        },
        "id": "UqDreLfoiPog",
        "outputId": "3fbf8e93-dddf-465f-8a69-6e8a50b086f4"
      },
      "execution_count": null,
      "outputs": [
        {
          "output_type": "stream",
          "name": "stdout",
          "text": [
            "[1, 2, ['red', 'blue']]\n"
          ]
        }
      ]
    },
    {
      "cell_type": "code",
      "source": [
        "L = [['a','b','c'],\n",
        "     [ 1,  2 , 3 ]]\n",
        "print(L)"
      ],
      "metadata": {
        "colab": {
          "base_uri": "https://localhost:8080/"
        },
        "id": "QXNTMqWCkBfc",
        "outputId": "7944a2a7-2bd4-4ccc-a955-ae36db4fc926"
      },
      "execution_count": null,
      "outputs": [
        {
          "output_type": "stream",
          "name": "stdout",
          "text": [
            "[['a', 'b', 'c'], [1, 2, 3]]\n"
          ]
        }
      ]
    },
    {
      "cell_type": "code",
      "source": [],
      "metadata": {
        "id": "qrS6Yps-lxmP"
      },
      "execution_count": null,
      "outputs": []
    }
  ]
}